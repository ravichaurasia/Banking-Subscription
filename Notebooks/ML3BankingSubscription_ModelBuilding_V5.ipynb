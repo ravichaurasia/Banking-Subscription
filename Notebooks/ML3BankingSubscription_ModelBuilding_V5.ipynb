{
 "cells": [
  {
   "cell_type": "markdown",
   "metadata": {},
   "source": [
    "# Model Building"
   ]
  },
  {
   "cell_type": "code",
   "execution_count": 1,
   "metadata": {
    "colab": {
     "base_uri": "https://localhost:8080/",
     "height": 34
    },
    "colab_type": "code",
    "executionInfo": {
     "elapsed": 3958,
     "status": "ok",
     "timestamp": 1589798357129,
     "user": {
      "displayName": "chat bot",
      "photoUrl": "",
      "userId": "02753983145021419952"
     },
     "user_tz": -330
    },
    "id": "bcEzsXWcwwu8",
    "outputId": "98045648-11e6-4fa8-df22-a4242abc4195"
   },
   "outputs": [
    {
     "name": "stdout",
     "output_type": "stream",
     "text": [
      "/content/drive/My Drive/Notebook/ML_Chal_BankingSubs\n"
     ]
    }
   ],
   "source": [
    "## Google colab path setup\n",
    "%cd /content/drive//My\\ Drive/Notebook/ML_Chal_BankingSubs/"
   ]
  },
  {
   "cell_type": "code",
   "execution_count": 1,
   "metadata": {
    "colab": {},
    "colab_type": "code",
    "id": "DrkV2ObfxgOd"
   },
   "outputs": [],
   "source": [
    "import warnings\n",
    "warnings.filterwarnings('ignore')\n",
    "import numpy as np\n",
    "import pandas as pd\n",
    "import matplotlib.pyplot as plt\n",
    "import seaborn as sns\n",
    "from statsmodels.stats.outliers_influence import variance_inflation_factor \n",
    "%matplotlib inline"
   ]
  },
  {
   "cell_type": "code",
   "execution_count": 2,
   "metadata": {
    "colab": {},
    "colab_type": "code",
    "id": "eXOWroPRxjnu"
   },
   "outputs": [],
   "source": [
    "# from rav_utils import preprocess_data,data_sampling,response_encoder,result_show\n",
    "from sklearn import metrics \n",
    "import lightgbm as lgb \n",
    "import catboost as cb"
   ]
  },
  {
   "cell_type": "code",
   "execution_count": 2,
   "metadata": {
    "colab": {},
    "colab_type": "code",
    "id": "UaVppZcIyDAm"
   },
   "outputs": [],
   "source": [
    "from sklearn.utils import resample\n",
    "import json\n",
    "\n",
    "def up_sample(X,y):\n",
    "    \"\"\"It takes the X and y data frames,\n",
    "    In output it provides upsampled data frames\"\"\"\n",
    "    \n",
    "    # concatenate our training data back together\n",
    "    X4 = pd.concat([X,y], axis=1)\n",
    "    \n",
    "    # separate minority and majority classes\n",
    "    # not_fraud = X[X.Class==0]\n",
    "    # fraud = X[X.Class==1]\n",
    "    no = X4[X4.y==0]\n",
    "    yes = X4[X4.y==1]\n",
    "    # print('yes ,no:' ,yes.count(), no.count())\n",
    "    a1=no.count()[0]\n",
    "    a2=yes.count()[0]\n",
    "    if a1>=a2:\n",
    "        # upsample minority\n",
    "        upsampled = resample(yes,\n",
    "                                  replace=True, # sample with replacement\n",
    "                                  n_samples=len(no), # match number in majority class\n",
    "                                  random_state=27) # reproducible results\n",
    "        upsampled = pd.concat([no, upsampled])\n",
    "    else:\n",
    "        # upsample minority\n",
    "        upsampled = resample(no,\n",
    "                                  replace=True, # sample with replacement\n",
    "                                  n_samples=len(yes), # match number in majority class\n",
    "                                  random_state=27) # reproducible results\n",
    "    # combine majority and upsampled minority\n",
    "        upsampled = pd.concat([yes, upsampled])\n",
    "    \n",
    "    # check new class counts\n",
    "    # upsampled.y.value_counts()\n",
    "    upsampled = upsampled.reset_index().drop(\"index\",axis=1)\n",
    "    return upsampled\n",
    "def categorical_column(data):\n",
    "    \"\"\"It takes the data frame and return the list of categorical column\"\"\"\n",
    "        # Categorical boolean mask\n",
    "    categorical_feature_mask = data.dtypes==object\n",
    "    \n",
    "    # filter categorical columns by using mask and turn it into a list\n",
    "    categorical_cols = data.columns[categorical_feature_mask].tolist()\n",
    "    return categorical_cols\n",
    "\n",
    "def numerical_column(data):\n",
    "    \"\"\"It takes the data frame and return the list of numerical column\n",
    "    Note:-here it takes only dtypes == int64 and float64,\n",
    "    which can be modified as per requirement\"\"\"\n",
    "    # filter categorical columns by using mask and turn it into a list\n",
    "    num_cols1 = data.columns[data.dtypes == 'int64'].tolist()\n",
    "    num_cols2 = data.columns[data.dtypes == 'float64'].tolist()\n",
    "    num_cols1.extend(num_cols2)\n",
    "    return num_cols1\n",
    "def all_score(true,predictions):\n",
    "    \"\"\"It takes the true value and predicted values \n",
    "    In output it provides graph\"\"\"\n",
    "    \n",
    "    f1score=metrics.f1_score(true,predictions)\n",
    "    precision=metrics.precision_score(true,predictions)\n",
    "    recall=metrics.recall_score(true,predictions)\n",
    "    auc=metrics.roc_auc_score(true,predictions)\n",
    "    pl2=[f1score,precision,recall,auc]\n",
    "    xx=['f1score','precision','recall','auc']\n",
    "    \n",
    "    ax=sns.barplot(xx,pl2)\n",
    "    for p in ax.patches:\n",
    "        ax.annotate('{:.2f}%'.format(p.get_height()), (p.get_x()+0.25, p.get_height()+0.004))\n",
    "    ax.set_xticklabels(ax.get_xticklabels(), rotation=40, ha=\"right\")\n",
    "    ax.set_ylim(0,1)\n",
    "    plt.show()\n",
    "\n",
    "def feature_dict(alpha, feature, train_df, train_df_y):\n",
    "    # value_count: it contains a dict like\n",
    "    print('X feature :-',feature)\n",
    "    value_count = train_df[feature].value_counts()\n",
    "    \n",
    "    # feat_dict : Categorical feature Dict, which contains the probability array for each categorical variable\n",
    "    feat_dict = dict()\n",
    "    \n",
    "    # denominator will contain the number of time that particular feature occured in whole data\n",
    "    for i, denominator in value_count.items():\n",
    "        # vec will contain (p(yi==1/Gi) probability of the particular \n",
    "        # categorical feature belongs to particular class\n",
    "        # vec is 2 diamensional vector\n",
    "        vec = []\n",
    "        for k in range(0, 2):\n",
    "            # cls_cnt.shape[0] will return the number of rows\n",
    "\n",
    "            cls_cnt = train_df.loc[(train_df_y==k) & (train_df[feature]==i)]\n",
    "            \n",
    "            # cls_cnt.shape[0](numerator) will contain the number of time that particular feature occured in whole data\n",
    "            vec.append((cls_cnt.shape[0] + alpha*10)/ (denominator + 20*alpha))\n",
    "\n",
    "        # we are adding the categorical feature to the dict as key and vec as value\n",
    "        feat_dict[i]=vec\n",
    "    return feat_dict\n",
    "\n",
    "# Get Response coded feature\n",
    "def response_feature(alpha, feature, train_df, train_df_y):\n",
    "\n",
    "    feat_dict = feature_dict(alpha, feature, train_df, train_df_y)\n",
    "    # value_count is similar in get_fea_dict\n",
    "    value_count = train_df[feature].value_counts()\n",
    "    \n",
    "    # res_fea: response coded feature, it will contain the response coded feature for each feature value in the data\n",
    "    res_fea = []\n",
    "    # for every feature values in the given data frame we will check if it is there in the train data then we will add the feature to res_fea\n",
    "    # if not we will add [1/2, 1/2] to res_fea\n",
    "    for index, row in train_df.iterrows():\n",
    "        if row[feature] in dict(value_count).keys():\n",
    "            res_fea.append(feat_dict[row[feature]])\n",
    "        else:\n",
    "            res_fea.append([1/2, 1/2])\n",
    "    return res_fea\n",
    "\n",
    "def ResponseEncoder(categorical_cols, x_df, y_df):\n",
    "\n",
    "    \"\"\"\n",
    "    This function takes Categorical column names and X and Y dataframe.\n",
    "\n",
    "    Returns the response coded dataframe\n",
    "    \"\"\"\n",
    "    print(\"Encoding dataset\")\n",
    "    print(\"Shape of the dataset before encoding: \", x_df.shape)\n",
    "    for i in (categorical_cols):\n",
    "        temp_response_coded_feature = np.array(response_feature(alpha=1, feature=i, train_df=x_df, train_df_y=y_df))\n",
    "        df_response = pd.DataFrame(temp_response_coded_feature, columns=[i+\"_0\", i+\"_1\"])\n",
    "        x_df = pd.concat([x_df, df_response], axis=1)\n",
    "\n",
    "    # Remove the categorical features as the response coded features are added\n",
    "    x_df = x_df.drop(categorical_cols, axis=1)\n",
    "    return x_df\n",
    "def test_data_encode(path,X):\n",
    "    aa=pd.read_json(path)\n",
    "    n_col=numerical_column(X)\n",
    "    n_X=X[n_col]\n",
    "    for i,j in enumerate(aa):\n",
    "    #     print(j)\n",
    "        col0=X[j].replace(aa[j][0])\n",
    "        col1=X[j].replace(aa[j][1])\n",
    "        col0,col1=pd.DataFrame(col0),pd.DataFrame(col1)\n",
    "        col=pd.concat([col0,col1],axis=1)\n",
    "        col.columns=[(str(j)+'_0'),(str(j)+'_1')]\n",
    "        n_X=pd.concat([n_X,col],axis=1)\n",
    "    return n_X"
   ]
  },
  {
   "cell_type": "code",
   "execution_count": 4,
   "metadata": {
    "colab": {
     "base_uri": "https://localhost:8080/",
     "height": 34
    },
    "colab_type": "code",
    "executionInfo": {
     "elapsed": 3104,
     "status": "ok",
     "timestamp": 1589798409085,
     "user": {
      "displayName": "chat bot",
      "photoUrl": "",
      "userId": "02753983145021419952"
     },
     "user_tz": -330
    },
    "id": "GtvQv-RwyyCc",
    "outputId": "77c10c0b-0039-437f-8728-2e40ff51f3fe"
   },
   "outputs": [
    {
     "data": {
      "text/html": [
       "<div>\n",
       "<style scoped>\n",
       "    .dataframe tbody tr th:only-of-type {\n",
       "        vertical-align: middle;\n",
       "    }\n",
       "\n",
       "    .dataframe tbody tr th {\n",
       "        vertical-align: top;\n",
       "    }\n",
       "\n",
       "    .dataframe thead th {\n",
       "        text-align: right;\n",
       "    }\n",
       "</style>\n",
       "<table border=\"1\" class=\"dataframe\">\n",
       "  <thead>\n",
       "    <tr style=\"text-align: right;\">\n",
       "      <th></th>\n",
       "      <th>age</th>\n",
       "      <th>job</th>\n",
       "      <th>marital</th>\n",
       "      <th>education</th>\n",
       "      <th>default</th>\n",
       "      <th>housing</th>\n",
       "      <th>loan</th>\n",
       "      <th>contact</th>\n",
       "      <th>month</th>\n",
       "      <th>day_of_week</th>\n",
       "      <th>...</th>\n",
       "      <th>campaign</th>\n",
       "      <th>pdays</th>\n",
       "      <th>previous</th>\n",
       "      <th>poutcome</th>\n",
       "      <th>emp.var.rate</th>\n",
       "      <th>cons.price.idx</th>\n",
       "      <th>cons.conf.idx</th>\n",
       "      <th>euribor3m</th>\n",
       "      <th>nr.employed</th>\n",
       "      <th>y</th>\n",
       "    </tr>\n",
       "  </thead>\n",
       "  <tbody>\n",
       "    <tr>\n",
       "      <th>0</th>\n",
       "      <td>56</td>\n",
       "      <td>housemaid</td>\n",
       "      <td>married</td>\n",
       "      <td>basic.4y</td>\n",
       "      <td>no</td>\n",
       "      <td>no</td>\n",
       "      <td>no</td>\n",
       "      <td>telephone</td>\n",
       "      <td>may</td>\n",
       "      <td>mon</td>\n",
       "      <td>...</td>\n",
       "      <td>1</td>\n",
       "      <td>999</td>\n",
       "      <td>0</td>\n",
       "      <td>nonexistent</td>\n",
       "      <td>1.1</td>\n",
       "      <td>93.994</td>\n",
       "      <td>-36.4</td>\n",
       "      <td>4.857</td>\n",
       "      <td>5191.0</td>\n",
       "      <td>no</td>\n",
       "    </tr>\n",
       "    <tr>\n",
       "      <th>1</th>\n",
       "      <td>57</td>\n",
       "      <td>services</td>\n",
       "      <td>married</td>\n",
       "      <td>high.school</td>\n",
       "      <td>unknown</td>\n",
       "      <td>no</td>\n",
       "      <td>no</td>\n",
       "      <td>telephone</td>\n",
       "      <td>may</td>\n",
       "      <td>mon</td>\n",
       "      <td>...</td>\n",
       "      <td>1</td>\n",
       "      <td>999</td>\n",
       "      <td>0</td>\n",
       "      <td>nonexistent</td>\n",
       "      <td>1.1</td>\n",
       "      <td>93.994</td>\n",
       "      <td>-36.4</td>\n",
       "      <td>4.857</td>\n",
       "      <td>5191.0</td>\n",
       "      <td>no</td>\n",
       "    </tr>\n",
       "    <tr>\n",
       "      <th>2</th>\n",
       "      <td>37</td>\n",
       "      <td>services</td>\n",
       "      <td>married</td>\n",
       "      <td>high.school</td>\n",
       "      <td>no</td>\n",
       "      <td>yes</td>\n",
       "      <td>no</td>\n",
       "      <td>telephone</td>\n",
       "      <td>may</td>\n",
       "      <td>mon</td>\n",
       "      <td>...</td>\n",
       "      <td>1</td>\n",
       "      <td>999</td>\n",
       "      <td>0</td>\n",
       "      <td>nonexistent</td>\n",
       "      <td>1.1</td>\n",
       "      <td>93.994</td>\n",
       "      <td>-36.4</td>\n",
       "      <td>4.857</td>\n",
       "      <td>5191.0</td>\n",
       "      <td>no</td>\n",
       "    </tr>\n",
       "    <tr>\n",
       "      <th>3</th>\n",
       "      <td>40</td>\n",
       "      <td>admin.</td>\n",
       "      <td>married</td>\n",
       "      <td>basic.6y</td>\n",
       "      <td>no</td>\n",
       "      <td>no</td>\n",
       "      <td>no</td>\n",
       "      <td>telephone</td>\n",
       "      <td>may</td>\n",
       "      <td>mon</td>\n",
       "      <td>...</td>\n",
       "      <td>1</td>\n",
       "      <td>999</td>\n",
       "      <td>0</td>\n",
       "      <td>nonexistent</td>\n",
       "      <td>1.1</td>\n",
       "      <td>93.994</td>\n",
       "      <td>-36.4</td>\n",
       "      <td>4.857</td>\n",
       "      <td>5191.0</td>\n",
       "      <td>no</td>\n",
       "    </tr>\n",
       "    <tr>\n",
       "      <th>4</th>\n",
       "      <td>56</td>\n",
       "      <td>services</td>\n",
       "      <td>married</td>\n",
       "      <td>high.school</td>\n",
       "      <td>no</td>\n",
       "      <td>no</td>\n",
       "      <td>yes</td>\n",
       "      <td>telephone</td>\n",
       "      <td>may</td>\n",
       "      <td>mon</td>\n",
       "      <td>...</td>\n",
       "      <td>1</td>\n",
       "      <td>999</td>\n",
       "      <td>0</td>\n",
       "      <td>nonexistent</td>\n",
       "      <td>1.1</td>\n",
       "      <td>93.994</td>\n",
       "      <td>-36.4</td>\n",
       "      <td>4.857</td>\n",
       "      <td>5191.0</td>\n",
       "      <td>no</td>\n",
       "    </tr>\n",
       "  </tbody>\n",
       "</table>\n",
       "<p>5 rows × 21 columns</p>\n",
       "</div>"
      ],
      "text/plain": [
       "   age        job  marital    education  default housing loan    contact  \\\n",
       "0   56  housemaid  married     basic.4y       no      no   no  telephone   \n",
       "1   57   services  married  high.school  unknown      no   no  telephone   \n",
       "2   37   services  married  high.school       no     yes   no  telephone   \n",
       "3   40     admin.  married     basic.6y       no      no   no  telephone   \n",
       "4   56   services  married  high.school       no      no  yes  telephone   \n",
       "\n",
       "  month day_of_week  ...  campaign  pdays  previous     poutcome emp.var.rate  \\\n",
       "0   may         mon  ...         1    999         0  nonexistent          1.1   \n",
       "1   may         mon  ...         1    999         0  nonexistent          1.1   \n",
       "2   may         mon  ...         1    999         0  nonexistent          1.1   \n",
       "3   may         mon  ...         1    999         0  nonexistent          1.1   \n",
       "4   may         mon  ...         1    999         0  nonexistent          1.1   \n",
       "\n",
       "   cons.price.idx  cons.conf.idx  euribor3m  nr.employed   y  \n",
       "0          93.994          -36.4      4.857       5191.0  no  \n",
       "1          93.994          -36.4      4.857       5191.0  no  \n",
       "2          93.994          -36.4      4.857       5191.0  no  \n",
       "3          93.994          -36.4      4.857       5191.0  no  \n",
       "4          93.994          -36.4      4.857       5191.0  no  \n",
       "\n",
       "[5 rows x 21 columns]"
      ]
     },
     "execution_count": 4,
     "metadata": {},
     "output_type": "execute_result"
    }
   ],
   "source": [
    "data_path=\"C:\\\\Datasets\\\\MLData\\\\Banking_subscription\\\\bank-additional-full.csv\"\n",
    "data=pd.read_csv(data_path,sep=';')\n",
    "np.shape(data)\n",
    "data.head()"
   ]
  },
  {
   "cell_type": "code",
   "execution_count": 5,
   "metadata": {
    "colab": {
     "base_uri": "https://localhost:8080/",
     "height": 34
    },
    "colab_type": "code",
    "executionInfo": {
     "elapsed": 1298,
     "status": "ok",
     "timestamp": 1589798417354,
     "user": {
      "displayName": "chat bot",
      "photoUrl": "",
      "userId": "02753983145021419952"
     },
     "user_tz": -330
    },
    "id": "940MPRJvy2iu",
    "outputId": "8e0acb0f-3a85-4bd5-b0aa-b4d4b0acefba"
   },
   "outputs": [
    {
     "data": {
      "text/plain": [
       "(41188, 19)"
      ]
     },
     "execution_count": 5,
     "metadata": {},
     "output_type": "execute_result"
    }
   ],
   "source": [
    "data2=data.drop(['duration','day_of_week'], axis=1)\n",
    "# data2=data.drop(['nr.employed','euribor3m','duration','day_of_week'], axis=1)\n",
    "np.shape(data2) ####### Droped out data"
   ]
  },
  {
   "cell_type": "code",
   "execution_count": 6,
   "metadata": {
    "colab": {
     "base_uri": "https://localhost:8080/",
     "height": 34
    },
    "colab_type": "code",
    "executionInfo": {
     "elapsed": 1389,
     "status": "ok",
     "timestamp": 1589798422186,
     "user": {
      "displayName": "chat bot",
      "photoUrl": "",
      "userId": "02753983145021419952"
     },
     "user_tz": -330
    },
    "id": "eb9lC85hy8fI",
    "outputId": "1f2e9b96-9783-4584-da22-d7963161b640"
   },
   "outputs": [
    {
     "name": "stdout",
     "output_type": "stream",
     "text": [
      "shape of x and y (41188, 18) (41188,)\n"
     ]
    }
   ],
   "source": [
    "####### Without dropping duplicate column ################\n",
    "X=data2.drop('y',axis=1)\n",
    "cat_cols2=categorical_column(X)\n",
    "data_cat2=X[cat_cols2]\n",
    "\n",
    "y=data2['y']\n",
    "print(\"shape of x and y\",X.shape,y.shape)\n",
    "y.replace({\"no\":0, \"yes\":1}, inplace=True)"
   ]
  },
  {
   "cell_type": "code",
   "execution_count": 8,
   "metadata": {
    "colab": {
     "base_uri": "https://localhost:8080/",
     "height": 218
    },
    "colab_type": "code",
    "executionInfo": {
     "elapsed": 87524,
     "status": "ok",
     "timestamp": 1589798514943,
     "user": {
      "displayName": "chat bot",
      "photoUrl": "",
      "userId": "02753983145021419952"
     },
     "user_tz": -330
    },
    "id": "vktUZ86YzAK-",
    "outputId": "ace99320-a503-4a33-c13d-c1e0e29e39dd"
   },
   "outputs": [
    {
     "name": "stdout",
     "output_type": "stream",
     "text": [
      "Encoding dataset\n",
      "Shape of the dataset before encoding:  (41188, 18)\n",
      "X feature :- job\n",
      "X feature :- marital\n",
      "X feature :- education\n",
      "X feature :- default\n",
      "X feature :- housing\n",
      "X feature :- loan\n",
      "X feature :- contact\n",
      "X feature :- month\n",
      "X feature :- poutcome\n",
      "Shape of the dataset after encoding:  (41188, 27)\n"
     ]
    }
   ],
   "source": [
    "X_Encod=ResponseEncoder(cat_cols2, X, y)\n",
    "print(\"Shape of the dataset after encoding: \", X_Encod.shape)"
   ]
  },
  {
   "cell_type": "code",
   "execution_count": 11,
   "metadata": {
    "colab": {
     "base_uri": "https://localhost:8080/",
     "height": 215
    },
    "colab_type": "code",
    "executionInfo": {
     "elapsed": 1250,
     "status": "ok",
     "timestamp": 1589798626806,
     "user": {
      "displayName": "chat bot",
      "photoUrl": "",
      "userId": "02753983145021419952"
     },
     "user_tz": -330
    },
    "id": "z7291tITYZLP",
    "outputId": "961ec9b7-357d-410d-bcf2-e246f5910cd6"
   },
   "outputs": [
    {
     "data": {
      "text/html": [
       "<div>\n",
       "<style scoped>\n",
       "    .dataframe tbody tr th:only-of-type {\n",
       "        vertical-align: middle;\n",
       "    }\n",
       "\n",
       "    .dataframe tbody tr th {\n",
       "        vertical-align: top;\n",
       "    }\n",
       "\n",
       "    .dataframe thead th {\n",
       "        text-align: right;\n",
       "    }\n",
       "</style>\n",
       "<table border=\"1\" class=\"dataframe\">\n",
       "  <thead>\n",
       "    <tr style=\"text-align: right;\">\n",
       "      <th></th>\n",
       "      <th>age</th>\n",
       "      <th>campaign</th>\n",
       "      <th>pdays</th>\n",
       "      <th>previous</th>\n",
       "      <th>emp.var.rate</th>\n",
       "      <th>cons.price.idx</th>\n",
       "      <th>cons.conf.idx</th>\n",
       "      <th>euribor3m</th>\n",
       "      <th>nr.employed</th>\n",
       "      <th>job_0</th>\n",
       "      <th>job_1</th>\n",
       "      <th>marital_0</th>\n",
       "      <th>marital_1</th>\n",
       "      <th>education_0</th>\n",
       "      <th>education_1</th>\n",
       "      <th>default_0</th>\n",
       "      <th>default_1</th>\n",
       "      <th>housing_0</th>\n",
       "      <th>housing_1</th>\n",
       "      <th>loan_0</th>\n",
       "      <th>loan_1</th>\n",
       "      <th>contact_0</th>\n",
       "      <th>contact_1</th>\n",
       "      <th>month_0</th>\n",
       "      <th>month_1</th>\n",
       "      <th>poutcome_0</th>\n",
       "      <th>poutcome_1</th>\n",
       "    </tr>\n",
       "  </thead>\n",
       "  <tbody>\n",
       "    <tr>\n",
       "      <th>0</th>\n",
       "      <td>56</td>\n",
       "      <td>1</td>\n",
       "      <td>999</td>\n",
       "      <td>0</td>\n",
       "      <td>1.1</td>\n",
       "      <td>93.994</td>\n",
       "      <td>-36.4</td>\n",
       "      <td>4.857</td>\n",
       "      <td>5191.0</td>\n",
       "      <td>0.892593</td>\n",
       "      <td>0.107407</td>\n",
       "      <td>0.898108</td>\n",
       "      <td>0.101892</td>\n",
       "      <td>0.895615</td>\n",
       "      <td>0.104385</td>\n",
       "      <td>0.870983</td>\n",
       "      <td>0.129017</td>\n",
       "      <td>0.890784</td>\n",
       "      <td>0.109216</td>\n",
       "      <td>0.886370</td>\n",
       "      <td>0.113630</td>\n",
       "      <td>0.947092</td>\n",
       "      <td>0.052908</td>\n",
       "      <td>0.935021</td>\n",
       "      <td>0.064979</td>\n",
       "      <td>0.911446</td>\n",
       "      <td>0.088554</td>\n",
       "    </tr>\n",
       "    <tr>\n",
       "      <th>1</th>\n",
       "      <td>57</td>\n",
       "      <td>1</td>\n",
       "      <td>999</td>\n",
       "      <td>0</td>\n",
       "      <td>1.1</td>\n",
       "      <td>93.994</td>\n",
       "      <td>-36.4</td>\n",
       "      <td>4.857</td>\n",
       "      <td>5191.0</td>\n",
       "      <td>0.916520</td>\n",
       "      <td>0.083480</td>\n",
       "      <td>0.898108</td>\n",
       "      <td>0.101892</td>\n",
       "      <td>0.890823</td>\n",
       "      <td>0.109177</td>\n",
       "      <td>0.947429</td>\n",
       "      <td>0.052571</td>\n",
       "      <td>0.890784</td>\n",
       "      <td>0.109216</td>\n",
       "      <td>0.886370</td>\n",
       "      <td>0.113630</td>\n",
       "      <td>0.947092</td>\n",
       "      <td>0.052908</td>\n",
       "      <td>0.935021</td>\n",
       "      <td>0.064979</td>\n",
       "      <td>0.911446</td>\n",
       "      <td>0.088554</td>\n",
       "    </tr>\n",
       "    <tr>\n",
       "      <th>2</th>\n",
       "      <td>37</td>\n",
       "      <td>1</td>\n",
       "      <td>999</td>\n",
       "      <td>0</td>\n",
       "      <td>1.1</td>\n",
       "      <td>93.994</td>\n",
       "      <td>-36.4</td>\n",
       "      <td>4.857</td>\n",
       "      <td>5191.0</td>\n",
       "      <td>0.916520</td>\n",
       "      <td>0.083480</td>\n",
       "      <td>0.898108</td>\n",
       "      <td>0.101892</td>\n",
       "      <td>0.890823</td>\n",
       "      <td>0.109177</td>\n",
       "      <td>0.870983</td>\n",
       "      <td>0.129017</td>\n",
       "      <td>0.883451</td>\n",
       "      <td>0.116549</td>\n",
       "      <td>0.886370</td>\n",
       "      <td>0.113630</td>\n",
       "      <td>0.947092</td>\n",
       "      <td>0.052908</td>\n",
       "      <td>0.935021</td>\n",
       "      <td>0.064979</td>\n",
       "      <td>0.911446</td>\n",
       "      <td>0.088554</td>\n",
       "    </tr>\n",
       "    <tr>\n",
       "      <th>3</th>\n",
       "      <td>40</td>\n",
       "      <td>1</td>\n",
       "      <td>999</td>\n",
       "      <td>0</td>\n",
       "      <td>1.1</td>\n",
       "      <td>93.994</td>\n",
       "      <td>-36.4</td>\n",
       "      <td>4.857</td>\n",
       "      <td>5191.0</td>\n",
       "      <td>0.869565</td>\n",
       "      <td>0.130435</td>\n",
       "      <td>0.898108</td>\n",
       "      <td>0.101892</td>\n",
       "      <td>0.914360</td>\n",
       "      <td>0.085640</td>\n",
       "      <td>0.870983</td>\n",
       "      <td>0.129017</td>\n",
       "      <td>0.890784</td>\n",
       "      <td>0.109216</td>\n",
       "      <td>0.886370</td>\n",
       "      <td>0.113630</td>\n",
       "      <td>0.947092</td>\n",
       "      <td>0.052908</td>\n",
       "      <td>0.935021</td>\n",
       "      <td>0.064979</td>\n",
       "      <td>0.911446</td>\n",
       "      <td>0.088554</td>\n",
       "    </tr>\n",
       "    <tr>\n",
       "      <th>4</th>\n",
       "      <td>56</td>\n",
       "      <td>1</td>\n",
       "      <td>999</td>\n",
       "      <td>0</td>\n",
       "      <td>1.1</td>\n",
       "      <td>93.994</td>\n",
       "      <td>-36.4</td>\n",
       "      <td>4.857</td>\n",
       "      <td>5191.0</td>\n",
       "      <td>0.916520</td>\n",
       "      <td>0.083480</td>\n",
       "      <td>0.898108</td>\n",
       "      <td>0.101892</td>\n",
       "      <td>0.890823</td>\n",
       "      <td>0.109177</td>\n",
       "      <td>0.870983</td>\n",
       "      <td>0.129017</td>\n",
       "      <td>0.890784</td>\n",
       "      <td>0.109216</td>\n",
       "      <td>0.889438</td>\n",
       "      <td>0.110562</td>\n",
       "      <td>0.947092</td>\n",
       "      <td>0.052908</td>\n",
       "      <td>0.935021</td>\n",
       "      <td>0.064979</td>\n",
       "      <td>0.911446</td>\n",
       "      <td>0.088554</td>\n",
       "    </tr>\n",
       "  </tbody>\n",
       "</table>\n",
       "</div>"
      ],
      "text/plain": [
       "   age  campaign  pdays  previous  ...   month_0   month_1  poutcome_0  poutcome_1\n",
       "0   56         1    999         0  ...  0.935021  0.064979    0.911446    0.088554\n",
       "1   57         1    999         0  ...  0.935021  0.064979    0.911446    0.088554\n",
       "2   37         1    999         0  ...  0.935021  0.064979    0.911446    0.088554\n",
       "3   40         1    999         0  ...  0.935021  0.064979    0.911446    0.088554\n",
       "4   56         1    999         0  ...  0.935021  0.064979    0.911446    0.088554\n",
       "\n",
       "[5 rows x 27 columns]"
      ]
     },
     "execution_count": 11,
     "metadata": {
      "tags": []
     },
     "output_type": "execute_result"
    }
   ],
   "source": [
    "X_Encod.head()"
   ]
  },
  {
   "cell_type": "code",
   "execution_count": 109,
   "metadata": {},
   "outputs": [
    {
     "data": {
      "text/html": [
       "<div>\n",
       "<style scoped>\n",
       "    .dataframe tbody tr th:only-of-type {\n",
       "        vertical-align: middle;\n",
       "    }\n",
       "\n",
       "    .dataframe tbody tr th {\n",
       "        vertical-align: top;\n",
       "    }\n",
       "\n",
       "    .dataframe thead th {\n",
       "        text-align: right;\n",
       "    }\n",
       "</style>\n",
       "<table border=\"1\" class=\"dataframe\">\n",
       "  <thead>\n",
       "    <tr style=\"text-align: right;\">\n",
       "      <th></th>\n",
       "      <th>age</th>\n",
       "      <th>campaign</th>\n",
       "      <th>pdays</th>\n",
       "      <th>previous</th>\n",
       "      <th>emp.var.rate</th>\n",
       "      <th>cons.price.idx</th>\n",
       "      <th>cons.conf.idx</th>\n",
       "      <th>euribor3m</th>\n",
       "      <th>nr.employed</th>\n",
       "      <th>job_0</th>\n",
       "      <th>...</th>\n",
       "      <th>default_0</th>\n",
       "      <th>default_1</th>\n",
       "      <th>housing_0</th>\n",
       "      <th>housing_1</th>\n",
       "      <th>loan_0</th>\n",
       "      <th>loan_1</th>\n",
       "      <th>contact_0</th>\n",
       "      <th>contact_1</th>\n",
       "      <th>month_0</th>\n",
       "      <th>month_1</th>\n",
       "    </tr>\n",
       "  </thead>\n",
       "  <tbody>\n",
       "    <tr>\n",
       "      <th>0</th>\n",
       "      <td>56</td>\n",
       "      <td>1</td>\n",
       "      <td>999</td>\n",
       "      <td>0</td>\n",
       "      <td>1.1</td>\n",
       "      <td>93.994</td>\n",
       "      <td>-36.4</td>\n",
       "      <td>4.857</td>\n",
       "      <td>5191.0</td>\n",
       "      <td>0.892593</td>\n",
       "      <td>...</td>\n",
       "      <td>0.870983</td>\n",
       "      <td>0.129017</td>\n",
       "      <td>0.890784</td>\n",
       "      <td>0.109216</td>\n",
       "      <td>0.886370</td>\n",
       "      <td>0.113630</td>\n",
       "      <td>0.947092</td>\n",
       "      <td>0.052908</td>\n",
       "      <td>0.935021</td>\n",
       "      <td>0.064979</td>\n",
       "    </tr>\n",
       "    <tr>\n",
       "      <th>1</th>\n",
       "      <td>57</td>\n",
       "      <td>1</td>\n",
       "      <td>999</td>\n",
       "      <td>0</td>\n",
       "      <td>1.1</td>\n",
       "      <td>93.994</td>\n",
       "      <td>-36.4</td>\n",
       "      <td>4.857</td>\n",
       "      <td>5191.0</td>\n",
       "      <td>0.916520</td>\n",
       "      <td>...</td>\n",
       "      <td>0.947429</td>\n",
       "      <td>0.052571</td>\n",
       "      <td>0.890784</td>\n",
       "      <td>0.109216</td>\n",
       "      <td>0.886370</td>\n",
       "      <td>0.113630</td>\n",
       "      <td>0.947092</td>\n",
       "      <td>0.052908</td>\n",
       "      <td>0.935021</td>\n",
       "      <td>0.064979</td>\n",
       "    </tr>\n",
       "    <tr>\n",
       "      <th>2</th>\n",
       "      <td>37</td>\n",
       "      <td>1</td>\n",
       "      <td>999</td>\n",
       "      <td>0</td>\n",
       "      <td>1.1</td>\n",
       "      <td>93.994</td>\n",
       "      <td>-36.4</td>\n",
       "      <td>4.857</td>\n",
       "      <td>5191.0</td>\n",
       "      <td>0.916520</td>\n",
       "      <td>...</td>\n",
       "      <td>0.870983</td>\n",
       "      <td>0.129017</td>\n",
       "      <td>0.883451</td>\n",
       "      <td>0.116549</td>\n",
       "      <td>0.886370</td>\n",
       "      <td>0.113630</td>\n",
       "      <td>0.947092</td>\n",
       "      <td>0.052908</td>\n",
       "      <td>0.935021</td>\n",
       "      <td>0.064979</td>\n",
       "    </tr>\n",
       "    <tr>\n",
       "      <th>3</th>\n",
       "      <td>40</td>\n",
       "      <td>1</td>\n",
       "      <td>999</td>\n",
       "      <td>0</td>\n",
       "      <td>1.1</td>\n",
       "      <td>93.994</td>\n",
       "      <td>-36.4</td>\n",
       "      <td>4.857</td>\n",
       "      <td>5191.0</td>\n",
       "      <td>0.869565</td>\n",
       "      <td>...</td>\n",
       "      <td>0.870983</td>\n",
       "      <td>0.129017</td>\n",
       "      <td>0.890784</td>\n",
       "      <td>0.109216</td>\n",
       "      <td>0.886370</td>\n",
       "      <td>0.113630</td>\n",
       "      <td>0.947092</td>\n",
       "      <td>0.052908</td>\n",
       "      <td>0.935021</td>\n",
       "      <td>0.064979</td>\n",
       "    </tr>\n",
       "    <tr>\n",
       "      <th>4</th>\n",
       "      <td>56</td>\n",
       "      <td>1</td>\n",
       "      <td>999</td>\n",
       "      <td>0</td>\n",
       "      <td>1.1</td>\n",
       "      <td>93.994</td>\n",
       "      <td>-36.4</td>\n",
       "      <td>4.857</td>\n",
       "      <td>5191.0</td>\n",
       "      <td>0.916520</td>\n",
       "      <td>...</td>\n",
       "      <td>0.870983</td>\n",
       "      <td>0.129017</td>\n",
       "      <td>0.890784</td>\n",
       "      <td>0.109216</td>\n",
       "      <td>0.889438</td>\n",
       "      <td>0.110562</td>\n",
       "      <td>0.947092</td>\n",
       "      <td>0.052908</td>\n",
       "      <td>0.935021</td>\n",
       "      <td>0.064979</td>\n",
       "    </tr>\n",
       "  </tbody>\n",
       "</table>\n",
       "<p>5 rows × 25 columns</p>\n",
       "</div>"
      ],
      "text/plain": [
       "   age  campaign  pdays  previous  emp.var.rate  cons.price.idx  \\\n",
       "0   56         1    999         0           1.1          93.994   \n",
       "1   57         1    999         0           1.1          93.994   \n",
       "2   37         1    999         0           1.1          93.994   \n",
       "3   40         1    999         0           1.1          93.994   \n",
       "4   56         1    999         0           1.1          93.994   \n",
       "\n",
       "   cons.conf.idx  euribor3m  nr.employed     job_0  ...  default_0  default_1  \\\n",
       "0          -36.4      4.857       5191.0  0.892593  ...   0.870983   0.129017   \n",
       "1          -36.4      4.857       5191.0  0.916520  ...   0.947429   0.052571   \n",
       "2          -36.4      4.857       5191.0  0.916520  ...   0.870983   0.129017   \n",
       "3          -36.4      4.857       5191.0  0.869565  ...   0.870983   0.129017   \n",
       "4          -36.4      4.857       5191.0  0.916520  ...   0.870983   0.129017   \n",
       "\n",
       "   housing_0  housing_1    loan_0    loan_1  contact_0  contact_1   month_0  \\\n",
       "0   0.890784   0.109216  0.886370  0.113630   0.947092   0.052908  0.935021   \n",
       "1   0.890784   0.109216  0.886370  0.113630   0.947092   0.052908  0.935021   \n",
       "2   0.883451   0.116549  0.886370  0.113630   0.947092   0.052908  0.935021   \n",
       "3   0.890784   0.109216  0.886370  0.113630   0.947092   0.052908  0.935021   \n",
       "4   0.890784   0.109216  0.889438  0.110562   0.947092   0.052908  0.935021   \n",
       "\n",
       "    month_1  \n",
       "0  0.064979  \n",
       "1  0.064979  \n",
       "2  0.064979  \n",
       "3  0.064979  \n",
       "4  0.064979  \n",
       "\n",
       "[5 rows x 25 columns]"
      ]
     },
     "execution_count": 109,
     "metadata": {},
     "output_type": "execute_result"
    }
   ],
   "source": [
    "####### At testing Phase ###########\n",
    "path=\"tst_encode.json\"\n",
    "X_Encod=test_data_encode(path,X)\n",
    "X_Encod.head()"
   ]
  },
  {
   "cell_type": "code",
   "execution_count": 29,
   "metadata": {},
   "outputs": [],
   "source": [
    "######## No improvement in result part while appliying Standard Scaler ############\n",
    "# from sklearn.preprocessing import StandardScaler\n",
    "# from sklearn.externals.joblib import dump, load\n",
    "# sc=StandardScaler()\n",
    "# X_scl=sc.fit_transform(X_Encod)\n",
    "# dump(sc, 'std_scaler.bin', compress=True)\n",
    "### For Testing Dataset #############\n",
    "# new=load('std_scaler.bin')\n",
    "# new.fit_transform(X_Encod)"
   ]
  },
  {
   "cell_type": "markdown",
   "metadata": {},
   "source": [
    "## Model Training Initiated"
   ]
  },
  {
   "cell_type": "code",
   "execution_count": 65,
   "metadata": {
    "colab": {},
    "colab_type": "code",
    "id": "B6cH6mu9zRgA"
   },
   "outputs": [],
   "source": [
    "from sklearn.model_selection import train_test_split\n",
    "import xgboost as xgb\n",
    "import pickle\n",
    "from xgboost import XGBClassifier\n",
    "from sklearn.metrics import accuracy_score"
   ]
  },
  {
   "cell_type": "code",
   "execution_count": 66,
   "metadata": {
    "colab": {},
    "colab_type": "code",
    "id": "koMbY_Riza7P"
   },
   "outputs": [],
   "source": [
    "## Data split\n",
    "train_x, test_x, train_y, test_y = train_test_split(X_Encod, y, test_size=0.2,random_state=42)"
   ]
  },
  {
   "cell_type": "markdown",
   "metadata": {},
   "source": [
    "#### XGBClassifier"
   ]
  },
  {
   "cell_type": "code",
   "execution_count": 67,
   "metadata": {
    "colab": {
     "base_uri": "https://localhost:8080/",
     "height": 134
    },
    "colab_type": "code",
    "executionInfo": {
     "elapsed": 4298,
     "status": "ok",
     "timestamp": 1589454258477,
     "user": {
      "displayName": "chat bot",
      "photoUrl": "",
      "userId": "02753983145021419952"
     },
     "user_tz": -330
    },
    "id": "VuKheD7tza-w",
    "outputId": "42cb1e4c-05d4-4091-f83f-5eb478507ff1"
   },
   "outputs": [
    {
     "data": {
      "text/plain": [
       "XGBClassifier(base_score=0.5, booster='gbtree', colsample_bylevel=1,\n",
       "       colsample_bynode=1, colsample_bytree=1, gamma=0, learning_rate=0.1,\n",
       "       max_delta_step=0, max_depth=3, min_child_weight=1, missing=None,\n",
       "       n_estimators=100, n_jobs=1, nthread=None,\n",
       "       objective='binary:logistic', random_state=0, reg_alpha=0,\n",
       "       reg_lambda=1, scale_pos_weight=1, seed=None, silent=None,\n",
       "       subsample=1, verbosity=1)"
      ]
     },
     "execution_count": 67,
     "metadata": {},
     "output_type": "execute_result"
    }
   ],
   "source": [
    "# fit model no training data\n",
    "model = XGBClassifier(objective='binary:logistic')\n",
    "model.fit(train_x, train_y)"
   ]
  },
  {
   "cell_type": "code",
   "execution_count": 68,
   "metadata": {
    "colab": {
     "base_uri": "https://localhost:8080/",
     "height": 346
    },
    "colab_type": "code",
    "executionInfo": {
     "elapsed": 1853,
     "status": "ok",
     "timestamp": 1589454262172,
     "user": {
      "displayName": "chat bot",
      "photoUrl": "",
      "userId": "02753983145021419952"
     },
     "user_tz": -330
    },
    "id": "nqD4xa8rzbCl",
    "outputId": "28c9e19a-a543-432e-e89b-d24e1e1d4785"
   },
   "outputs": [
    {
     "name": "stderr",
     "output_type": "stream",
     "text": [
      "C:\\ProgramData\\Anaconda3\\lib\\site-packages\\sklearn\\preprocessing\\label.py:151: DeprecationWarning: The truth value of an empty array is ambiguous. Returning False, but in future this will result in an error. Use `array.size > 0` to check that an array is not empty.\n",
      "  if diff:\n"
     ]
    },
    {
     "name": "stdout",
     "output_type": "stream",
     "text": [
      "accuracy: 0.9044309559939302\n"
     ]
    },
    {
     "data": {
      "image/png": "[encoded data removed]",
      "text/plain": [
       "<Figure size 432x288 with 1 Axes>"
      ]
     },
     "metadata": {},
     "output_type": "display_data"
    },
    {
     "data": {
      "text/plain": [
       "array([[28814,   431],\n",
       "       [ 2718,   987]], dtype=int64)"
      ]
     },
     "execution_count": 68,
     "metadata": {},
     "output_type": "execute_result"
    }
   ],
   "source": [
    "# cheking training accuracy\n",
    "y_pred = model.predict(train_x)\n",
    "predictions = [round(value) for value in y_pred]\n",
    "accuracy = accuracy_score(train_y,predictions)\n",
    "print('accuracy:',accuracy)\n",
    "all_score(train_y,predictions)### Train\n",
    "confusion=metrics.confusion_matrix(train_y,predictions)\n",
    "confusion"
   ]
  },
  {
   "cell_type": "code",
   "execution_count": 69,
   "metadata": {
    "colab": {
     "base_uri": "https://localhost:8080/",
     "height": 346
    },
    "colab_type": "code",
    "executionInfo": {
     "elapsed": 1587,
     "status": "ok",
     "timestamp": 1589454273269,
     "user": {
      "displayName": "chat bot",
      "photoUrl": "",
      "userId": "02753983145021419952"
     },
     "user_tz": -330
    },
    "id": "_G6cXUyizbGu",
    "outputId": "544e877c-ab55-4ca7-d4ce-1fb7d73a4189"
   },
   "outputs": [
    {
     "name": "stderr",
     "output_type": "stream",
     "text": [
      "C:\\ProgramData\\Anaconda3\\lib\\site-packages\\sklearn\\preprocessing\\label.py:151: DeprecationWarning: The truth value of an empty array is ambiguous. Returning False, but in future this will result in an error. Use `array.size > 0` to check that an array is not empty.\n",
      "  if diff:\n"
     ]
    },
    {
     "name": "stdout",
     "output_type": "stream",
     "text": [
      "accuracy: 0.8969410050983249\n"
     ]
    },
    {
     "data": {
      "image/png": "[encoded data removed]",
      "text/plain": [
       "<Figure size 432x288 with 1 Axes>"
      ]
     },
     "metadata": {},
     "output_type": "display_data"
    },
    {
     "data": {
      "text/plain": [
       "array([[7174,  129],\n",
       "       [ 720,  215]], dtype=int64)"
      ]
     },
     "execution_count": 69,
     "metadata": {},
     "output_type": "execute_result"
    }
   ],
   "source": [
    "# cheking initial test accuracy\n",
    "y_pred = model.predict(test_x)\n",
    "predictions = [round(value) for value in y_pred]\n",
    "accuracy = accuracy_score(test_y,predictions)\n",
    "print('accuracy:',accuracy)\n",
    "all_score(test_y,predictions)### Test\n",
    "confusion=metrics.confusion_matrix(test_y,predictions)\n",
    "confusion"
   ]
  },
  {
   "cell_type": "markdown",
   "metadata": {
    "colab_type": "text",
    "id": "WnrRax-TzlM-"
   },
   "source": [
    "## Data Upsampling"
   ]
  },
  {
   "cell_type": "code",
   "execution_count": 70,
   "metadata": {
    "colab": {},
    "colab_type": "code",
    "id": "hR2fIsO-zkHY"
   },
   "outputs": [],
   "source": [
    "upsampled=up_sample(X_Encod,y)"
   ]
  },
  {
   "cell_type": "code",
   "execution_count": 71,
   "metadata": {
    "colab": {},
    "colab_type": "code",
    "id": "Z3tBEVGczkKu"
   },
   "outputs": [],
   "source": [
    "X_final=upsampled.drop('y',axis=1)\n",
    "y_final=upsampled['y']"
   ]
  },
  {
   "cell_type": "markdown",
   "metadata": {},
   "source": [
    "#### XGBClassifier"
   ]
  },
  {
   "cell_type": "code",
   "execution_count": 72,
   "metadata": {
    "colab": {
     "base_uri": "https://localhost:8080/",
     "height": 134
    },
    "colab_type": "code",
    "executionInfo": {
     "elapsed": 5636,
     "status": "ok",
     "timestamp": 1589454291082,
     "user": {
      "displayName": "chat bot",
      "photoUrl": "",
      "userId": "02753983145021419952"
     },
     "user_tz": -330
    },
    "id": "vN8ZGIzozkRC",
    "outputId": "c78354f8-4f9a-4c61-bb6c-14c1c5d08cff"
   },
   "outputs": [
    {
     "data": {
      "text/plain": [
       "XGBClassifier(base_score=0.5, booster='gbtree', colsample_bylevel=1,\n",
       "       colsample_bynode=1, colsample_bytree=1, gamma=0, learning_rate=0.1,\n",
       "       max_delta_step=0, max_depth=3, min_child_weight=1, missing=None,\n",
       "       n_estimators=100, n_jobs=1, nthread=None,\n",
       "       objective='binary:logistic', random_state=0, reg_alpha=0,\n",
       "       reg_lambda=1, scale_pos_weight=1, seed=None, silent=None,\n",
       "       subsample=1, verbosity=1)"
      ]
     },
     "execution_count": 72,
     "metadata": {},
     "output_type": "execute_result"
    }
   ],
   "source": [
    "train_x, test_x, train_y, test_y = train_test_split(X_final, y_final, test_size=0.25,random_state=42)\n",
    "# fit model no training data\n",
    "model = XGBClassifier(objective='binary:logistic')\n",
    "model.fit(train_x, train_y)"
   ]
  },
  {
   "cell_type": "code",
   "execution_count": 73,
   "metadata": {
    "colab": {
     "base_uri": "https://localhost:8080/",
     "height": 346
    },
    "colab_type": "code",
    "executionInfo": {
     "elapsed": 1403,
     "status": "ok",
     "timestamp": 1589454294159,
     "user": {
      "displayName": "chat bot",
      "photoUrl": "",
      "userId": "02753983145021419952"
     },
     "user_tz": -330
    },
    "id": "oRXEx3-pzkUn",
    "outputId": "fda3a8ad-8bfb-42d9-c00c-e71b22afd00b"
   },
   "outputs": [
    {
     "name": "stderr",
     "output_type": "stream",
     "text": [
      "C:\\ProgramData\\Anaconda3\\lib\\site-packages\\sklearn\\preprocessing\\label.py:151: DeprecationWarning: The truth value of an empty array is ambiguous. Returning False, but in future this will result in an error. Use `array.size > 0` to check that an array is not empty.\n",
      "  if diff:\n"
     ]
    },
    {
     "name": "stdout",
     "output_type": "stream",
     "text": [
      "accuracy: 0.7538032176863303\n"
     ]
    },
    {
     "data": {
      "image/png": "[encoded data removed]",
      "text/plain": [
       "<Figure size 432x288 with 1 Axes>"
      ]
     },
     "metadata": {},
     "output_type": "display_data"
    },
    {
     "data": {
      "text/plain": [
       "array([[23394,  3963],\n",
       "       [ 9534, 17931]], dtype=int64)"
      ]
     },
     "execution_count": 73,
     "metadata": {},
     "output_type": "execute_result"
    }
   ],
   "source": [
    "# cheking training accuracy\n",
    "y_pred = model.predict(train_x)\n",
    "predictions = [round(value) for value in y_pred]\n",
    "accuracy = accuracy_score(train_y,predictions)\n",
    "print('accuracy:',accuracy)\n",
    "all_score(train_y,predictions)### Train\n",
    "confusion=metrics.confusion_matrix(train_y,predictions)\n",
    "confusion"
   ]
  },
  {
   "cell_type": "code",
   "execution_count": 74,
   "metadata": {
    "colab": {
     "base_uri": "https://localhost:8080/",
     "height": 346
    },
    "colab_type": "code",
    "executionInfo": {
     "elapsed": 1574,
     "status": "ok",
     "timestamp": 1589454304583,
     "user": {
      "displayName": "chat bot",
      "photoUrl": "",
      "userId": "02753983145021419952"
     },
     "user_tz": -330
    },
    "id": "eRK7GOoCzkOS",
    "outputId": "e17d17c0-c51f-40df-8d07-512ac7afd1d1"
   },
   "outputs": [
    {
     "name": "stderr",
     "output_type": "stream",
     "text": [
      "C:\\ProgramData\\Anaconda3\\lib\\site-packages\\sklearn\\preprocessing\\label.py:151: DeprecationWarning: The truth value of an empty array is ambiguous. Returning False, but in future this will result in an error. Use `array.size > 0` to check that an array is not empty.\n",
      "  if diff:\n"
     ]
    },
    {
     "name": "stdout",
     "output_type": "stream",
     "text": [
      "accuracy: 0.7511218124110759\n"
     ]
    },
    {
     "data": {
      "image/png": "[encoded data removed]",
      "text/plain": [
       "<Figure size 432x288 with 1 Axes>"
      ]
     },
     "metadata": {},
     "output_type": "display_data"
    },
    {
     "data": {
      "text/plain": [
       "array([[7819, 1372],\n",
       "       [3176, 5907]], dtype=int64)"
      ]
     },
     "execution_count": 74,
     "metadata": {},
     "output_type": "execute_result"
    }
   ],
   "source": [
    "y_pred = model.predict(test_x)\n",
    "predictions = [round(value) for value in y_pred]\n",
    "accuracy = accuracy_score(test_y,predictions)\n",
    "print('accuracy:',accuracy)\n",
    "all_score(test_y,predictions)### Test\n",
    "confusion=metrics.confusion_matrix(test_y,predictions)\n",
    "confusion"
   ]
  },
  {
   "cell_type": "markdown",
   "metadata": {
    "colab_type": "text",
    "id": "BTYDPJ-C6Ffa"
   },
   "source": [
    "**LGB**"
   ]
  },
  {
   "cell_type": "code",
   "execution_count": 75,
   "metadata": {
    "colab": {
     "base_uri": "https://localhost:8080/",
     "height": 118
    },
    "colab_type": "code",
    "executionInfo": {
     "elapsed": 2691,
     "status": "ok",
     "timestamp": 1589460131582,
     "user": {
      "displayName": "chat bot",
      "photoUrl": "",
      "userId": "02753983145021419952"
     },
     "user_tz": -330
    },
    "id": "krlLopUY6E67",
    "outputId": "539c4794-6d22-4747-f04a-6332b2e4ee1c"
   },
   "outputs": [
    {
     "data": {
      "text/plain": [
       "LGBMClassifier(boosting_type='gbdt', class_weight=None, colsample_bytree=1.0,\n",
       "        importance_type='split', learning_rate=0.1, max_depth=-1,\n",
       "        min_child_samples=20, min_child_weight=0.001, min_split_gain=0.0,\n",
       "        n_estimators=100, n_jobs=-1, num_leaves=31, objective=None,\n",
       "        random_state=None, reg_alpha=0.0, reg_lambda=0.0, silent=True,\n",
       "        subsample=1.0, subsample_for_bin=200000, subsample_freq=0)"
      ]
     },
     "execution_count": 75,
     "metadata": {},
     "output_type": "execute_result"
    }
   ],
   "source": [
    "############### LGBOOST Algorithm###############\n",
    "small_lgb_model = lgb.LGBMClassifier()\n",
    "small_lgb_model.fit(train_x, train_y)"
   ]
  },
  {
   "cell_type": "code",
   "execution_count": 76,
   "metadata": {
    "colab": {
     "base_uri": "https://localhost:8080/",
     "height": 346
    },
    "colab_type": "code",
    "executionInfo": {
     "elapsed": 2532,
     "status": "ok",
     "timestamp": 1589455571937,
     "user": {
      "displayName": "chat bot",
      "photoUrl": "",
      "userId": "02753983145021419952"
     },
     "user_tz": -330
    },
    "id": "8cZtvDVG7t6T",
    "outputId": "b17bee12-8cba-4184-a741-609aa805ef90"
   },
   "outputs": [
    {
     "name": "stderr",
     "output_type": "stream",
     "text": [
      "C:\\ProgramData\\Anaconda3\\lib\\site-packages\\sklearn\\preprocessing\\label.py:151: DeprecationWarning: The truth value of an empty array is ambiguous. Returning False, but in future this will result in an error. Use `array.size > 0` to check that an array is not empty.\n",
      "  if diff:\n"
     ]
    },
    {
     "name": "stdout",
     "output_type": "stream",
     "text": [
      "accuracy: 0.777954106015833\n"
     ]
    },
    {
     "data": {
      "image/png": "[encoded data removed]",
      "text/plain": [
       "<Figure size 432x288 with 1 Axes>"
      ]
     },
     "metadata": {},
     "output_type": "display_data"
    },
    {
     "data": {
      "text/plain": [
       "array([[23914,  3443],\n",
       "       [ 8730, 18735]], dtype=int64)"
      ]
     },
     "execution_count": 76,
     "metadata": {},
     "output_type": "execute_result"
    }
   ],
   "source": [
    "# cheking training accuracy\n",
    "y_pred=small_lgb_model.predict(train_x)\n",
    "predictions = [round(value) for value in y_pred]\n",
    "accuracy = accuracy_score(train_y,predictions)\n",
    "print('accuracy:',accuracy)\n",
    "all_score(train_y,predictions)### Train\n",
    "confusion=metrics.confusion_matrix(train_y,predictions)\n",
    "confusion\n",
    "#0.7804348619167487"
   ]
  },
  {
   "cell_type": "code",
   "execution_count": 77,
   "metadata": {
    "colab": {
     "base_uri": "https://localhost:8080/",
     "height": 346
    },
    "colab_type": "code",
    "executionInfo": {
     "elapsed": 1650,
     "status": "ok",
     "timestamp": 1589455619574,
     "user": {
      "displayName": "chat bot",
      "photoUrl": "",
      "userId": "02753983145021419952"
     },
     "user_tz": -330
    },
    "id": "4Qxan7s9782n",
    "outputId": "5066312b-9864-4226-b7a2-5f611eebe26d"
   },
   "outputs": [
    {
     "name": "stderr",
     "output_type": "stream",
     "text": [
      "C:\\ProgramData\\Anaconda3\\lib\\site-packages\\sklearn\\preprocessing\\label.py:151: DeprecationWarning: The truth value of an empty array is ambiguous. Returning False, but in future this will result in an error. Use `array.size > 0` to check that an array is not empty.\n",
      "  if diff:\n"
     ]
    },
    {
     "name": "stdout",
     "output_type": "stream",
     "text": [
      "accuracy: 0.7692349786582029\n"
     ]
    },
    {
     "data": {
      "image/png": "[encoded data removed]",
      "text/plain": [
       "<Figure size 432x288 with 1 Axes>"
      ]
     },
     "metadata": {},
     "output_type": "display_data"
    },
    {
     "data": {
      "text/plain": [
       "array([[7941, 1250],\n",
       "       [2967, 6116]], dtype=int64)"
      ]
     },
     "execution_count": 77,
     "metadata": {},
     "output_type": "execute_result"
    }
   ],
   "source": [
    "y_pred = small_lgb_model.predict(test_x)\n",
    "predictions = [round(value) for value in y_pred]\n",
    "accuracy = accuracy_score(test_y,predictions)\n",
    "print('accuracy:',accuracy)\n",
    "all_score(test_y,predictions)### Test\n",
    "confusion=metrics.confusion_matrix(test_y,predictions)\n",
    "confusion\n",
    "#0.7723541643865601"
   ]
  },
  {
   "cell_type": "markdown",
   "metadata": {
    "colab_type": "text",
    "id": "dargIiK_8Fva"
   },
   "source": [
    "**Catboost**"
   ]
  },
  {
   "cell_type": "code",
   "execution_count": 84,
   "metadata": {
    "colab": {},
    "colab_type": "code",
    "id": "Jt8DHOtL8FDn"
   },
   "outputs": [
    {
     "name": "stdout",
     "output_type": "stream",
     "text": [
      "0:\tlearn: 0.7414906\ttotal: 51.9ms\tremaining: 1m 43s\n",
      "75:\tlearn: 0.7703294\ttotal: 3.51s\tremaining: 1m 28s\n",
      "150:\tlearn: 0.8011930\ttotal: 6.9s\tremaining: 1m 24s\n",
      "225:\tlearn: 0.8252526\ttotal: 10.2s\tremaining: 1m 20s\n",
      "300:\tlearn: 0.8439678\ttotal: 13.5s\tremaining: 1m 16s\n",
      "375:\tlearn: 0.8663128\ttotal: 17s\tremaining: 1m 13s\n",
      "450:\tlearn: 0.8807231\ttotal: 20.4s\tremaining: 1m 10s\n",
      "525:\tlearn: 0.8930356\ttotal: 23.9s\tremaining: 1m 6s\n",
      "600:\tlearn: 0.9028492\ttotal: 27.3s\tremaining: 1m 3s\n",
      "675:\tlearn: 0.9117872\ttotal: 30.6s\tremaining: 60s\n",
      "750:\tlearn: 0.9193025\ttotal: 34.2s\tremaining: 56.9s\n",
      "825:\tlearn: 0.9260516\ttotal: 37.8s\tremaining: 53.7s\n",
      "900:\tlearn: 0.9332385\ttotal: 41.1s\tremaining: 50.2s\n",
      "975:\tlearn: 0.9390573\ttotal: 44.6s\tremaining: 46.7s\n",
      "1050:\tlearn: 0.9444748\ttotal: 48s\tremaining: 43.4s\n",
      "1125:\tlearn: 0.9491080\ttotal: 51.3s\tremaining: 39.8s\n",
      "1200:\tlearn: 0.9541060\ttotal: 54.7s\tremaining: 36.4s\n",
      "1275:\tlearn: 0.9579366\ttotal: 58.1s\tremaining: 33s\n",
      "1350:\tlearn: 0.9604721\ttotal: 1m 1s\tremaining: 29.5s\n",
      "1425:\tlearn: 0.9625698\ttotal: 1m 4s\tremaining: 26.1s\n",
      "1500:\tlearn: 0.9661997\ttotal: 1m 9s\tremaining: 23s\n",
      "1575:\tlearn: 0.9682609\ttotal: 1m 12s\tremaining: 19.5s\n",
      "1650:\tlearn: 0.9703221\ttotal: 1m 15s\tremaining: 16s\n",
      "1725:\tlearn: 0.9718726\ttotal: 1m 19s\tremaining: 12.6s\n",
      "1800:\tlearn: 0.9736420\ttotal: 1m 22s\tremaining: 9.1s\n",
      "1875:\tlearn: 0.9759768\ttotal: 1m 25s\tremaining: 5.67s\n",
      "1950:\tlearn: 0.9778009\ttotal: 1m 29s\tremaining: 2.24s\n",
      "1999:\tlearn: 0.9784211\ttotal: 1m 31s\tremaining: 0us\n"
     ]
    },
    {
     "data": {
      "text/plain": [
       "<catboost.core.CatBoostClassifier at 0x2d4056476d8>"
      ]
     },
     "execution_count": 84,
     "metadata": {},
     "output_type": "execute_result"
    }
   ],
   "source": [
    "cb_model = cb.CatBoostClassifier(iterations=2000,\n",
    "                            learning_rate=0.1,\n",
    "                            depth=8,\n",
    "                            eval_metric='Accuracy',\n",
    "                            random_seed = 0,\n",
    "                            bagging_temperature = 0.2,\n",
    "                            od_type='Iter',\n",
    "                            metric_period = 75,\n",
    "                            od_wait=100)\n",
    "cb_model.fit(train_x, train_y)"
   ]
  },
  {
   "cell_type": "code",
   "execution_count": 85,
   "metadata": {
    "colab": {
     "base_uri": "https://localhost:8080/",
     "height": 346
    },
    "colab_type": "code",
    "executionInfo": {
     "elapsed": 1682,
     "status": "ok",
     "timestamp": 1589455909787,
     "user": {
      "displayName": "chat bot",
      "photoUrl": "",
      "userId": "02753983145021419952"
     },
     "user_tz": -330
    },
    "id": "7_L6EcnW9BPj",
    "outputId": "b2df87c2-df52-4468-90ef-88e287711612"
   },
   "outputs": [
    {
     "name": "stdout",
     "output_type": "stream",
     "text": [
      "accuracy: 0.9784210718324761\n"
     ]
    },
    {
     "data": {
      "image/png": "[encoded data removed]",
      "text/plain": [
       "<Figure size 432x288 with 1 Axes>"
      ]
     },
     "metadata": {},
     "output_type": "display_data"
    },
    {
     "data": {
      "text/plain": [
       "array([[26497,   860],\n",
       "       [  323, 27142]], dtype=int64)"
      ]
     },
     "execution_count": 85,
     "metadata": {},
     "output_type": "execute_result"
    }
   ],
   "source": [
    "# cheking training accuracy\n",
    "y_pred=cb_model.predict(train_x)\n",
    "predictions = [round(value) for value in y_pred]\n",
    "accuracy = accuracy_score(train_y,predictions)\n",
    "print('accuracy:',accuracy)\n",
    "all_score(train_y,predictions)### Train\n",
    "confusion=metrics.confusion_matrix(train_y,predictions)\n",
    "confusion"
   ]
  },
  {
   "cell_type": "code",
   "execution_count": 86,
   "metadata": {
    "colab": {
     "base_uri": "https://localhost:8080/",
     "height": 346
    },
    "colab_type": "code",
    "executionInfo": {
     "elapsed": 1640,
     "status": "ok",
     "timestamp": 1589455966944,
     "user": {
      "displayName": "chat bot",
      "photoUrl": "",
      "userId": "02753983145021419952"
     },
     "user_tz": -330
    },
    "id": "xYuPIkGj9SDQ",
    "outputId": "eafc3933-92a4-4bc3-a4a7-f870450642e4"
   },
   "outputs": [
    {
     "name": "stdout",
     "output_type": "stream",
     "text": [
      "accuracy: 0.9338951515814818\n"
     ]
    },
    {
     "data": {
      "image/png": "[encoded data removed]",
      "text/plain": [
       "<Figure size 432x288 with 1 Axes>"
      ]
     },
     "metadata": {},
     "output_type": "display_data"
    },
    {
     "data": {
      "text/plain": [
       "array([[8201,  990],\n",
       "       [ 218, 8865]], dtype=int64)"
      ]
     },
     "execution_count": 86,
     "metadata": {},
     "output_type": "execute_result"
    }
   ],
   "source": [
    "y_pred = cb_model.predict(test_x)\n",
    "predictions = [round(value) for value in y_pred]\n",
    "accuracy = accuracy_score(test_y,predictions)\n",
    "print('accuracy:',accuracy)\n",
    "all_score(test_y,predictions)### Test\n",
    "confusion=metrics.confusion_matrix(test_y,predictions)\n",
    "confusion"
   ]
  },
  {
   "cell_type": "markdown",
   "metadata": {
    "colab_type": "text",
    "id": "e64Y3PCi_Aum"
   },
   "source": [
    "**Stacking**"
   ]
  },
  {
   "cell_type": "code",
   "execution_count": 87,
   "metadata": {
    "colab": {
     "base_uri": "https://localhost:8080/",
     "height": 255
    },
    "colab_type": "code",
    "executionInfo": {
     "elapsed": 7230,
     "status": "ok",
     "timestamp": 1589456908232,
     "user": {
      "displayName": "chat bot",
      "photoUrl": "",
      "userId": "02753983145021419952"
     },
     "user_tz": -330
    },
    "id": "AjWo4IJwA24V",
    "outputId": "92c23cb4-1453-4af1-9037-855347ade798"
   },
   "outputs": [
    {
     "name": "stdout",
     "output_type": "stream",
     "text": [
      "Requirement already satisfied: vecstack in c:\\programdata\\anaconda3\\lib\\site-packages (0.4.0)\n",
      "Requirement already satisfied: numpy in c:\\programdata\\anaconda3\\lib\\site-packages (from vecstack) (1.17.3)\n",
      "Requirement already satisfied: scipy in c:\\programdata\\anaconda3\\lib\\site-packages (from vecstack) (1.1.0)\n",
      "Requirement already satisfied: scikit-learn>=0.18 in c:\\programdata\\anaconda3\\lib\\site-packages (from vecstack) (0.19.1)\n"
     ]
    },
    {
     "name": "stderr",
     "output_type": "stream",
     "text": [
      "WARNING: You are using pip version 20.0.2; however, version 20.1 is available.\n",
      "You should consider upgrading via the 'c:\\programdata\\anaconda3\\python.exe -m pip install --upgrade pip' command.\n"
     ]
    }
   ],
   "source": [
    "!pip install vecstack"
   ]
  },
  {
   "cell_type": "code",
   "execution_count": 88,
   "metadata": {
    "colab": {},
    "colab_type": "code",
    "id": "988QPtsTAI9u"
   },
   "outputs": [],
   "source": [
    "from sklearn import svm\n",
    "from vecstack import stacking\n",
    "from sklearn.metrics import roc_auc_score"
   ]
  },
  {
   "cell_type": "code",
   "execution_count": 89,
   "metadata": {
    "colab": {
     "base_uri": "https://localhost:8080/",
     "height": 1000
    },
    "colab_type": "code",
    "executionInfo": {
     "elapsed": 122002,
     "status": "ok",
     "timestamp": 1589457474599,
     "user": {
      "displayName": "chat bot",
      "photoUrl": "",
      "userId": "02753983145021419952"
     },
     "user_tz": -330
    },
    "id": "UO1K5kg5-_R6",
    "outputId": "36b02b95-9a27-43fc-a18c-791bfb89b33a"
   },
   "outputs": [
    {
     "name": "stdout",
     "output_type": "stream",
     "text": [
      "task:         [classification]\n",
      "n_classes:    [2]\n",
      "metric:       [roc_auc_score]\n",
      "mode:         [oof_pred_bag]\n",
      "n_models:     [2]\n",
      "\n",
      "model  0:     [CatBoostClassifier]\n",
      "0:\tlearn: 0.7380582\ttotal: 61ms\tremaining: 42.7s\n",
      "75:\tlearn: 0.7725703\ttotal: 3.05s\tremaining: 25s\n",
      "150:\tlearn: 0.8034585\ttotal: 5.86s\tremaining: 21.3s\n",
      "225:\tlearn: 0.8284123\ttotal: 8.58s\tremaining: 18s\n",
      "300:\tlearn: 0.8457535\ttotal: 11.5s\tremaining: 15.3s\n",
      "375:\tlearn: 0.8630460\ttotal: 14.4s\tremaining: 12.4s\n",
      "450:\tlearn: 0.8815303\ttotal: 17.6s\tremaining: 9.73s\n",
      "525:\tlearn: 0.8959043\ttotal: 20.8s\tremaining: 6.88s\n",
      "600:\tlearn: 0.9044654\ttotal: 23.9s\tremaining: 3.94s\n",
      "675:\tlearn: 0.9155317\ttotal: 26.9s\tremaining: 954ms\n",
      "699:\tlearn: 0.9184989\ttotal: 27.9s\tremaining: 0us\n",
      "    fold  0:  [0.87130200]\n",
      "0:\tlearn: 0.7365989\ttotal: 41.3ms\tremaining: 28.9s\n",
      "75:\tlearn: 0.7733243\ttotal: 3.05s\tremaining: 25s\n",
      "150:\tlearn: 0.8064987\ttotal: 6.26s\tremaining: 22.8s\n",
      "225:\tlearn: 0.8297986\ttotal: 9.64s\tremaining: 20.2s\n",
      "300:\tlearn: 0.8489396\ttotal: 13s\tremaining: 17.2s\n",
      "375:\tlearn: 0.8658430\ttotal: 15.9s\tremaining: 13.7s\n",
      "450:\tlearn: 0.8817735\ttotal: 19.3s\tremaining: 10.6s\n",
      "525:\tlearn: 0.8924506\ttotal: 22.5s\tremaining: 7.44s\n",
      "600:\tlearn: 0.9051464\ttotal: 25.5s\tremaining: 4.21s\n",
      "675:\tlearn: 0.9123456\ttotal: 28.2s\tremaining: 1s\n",
      "699:\tlearn: 0.9159208\ttotal: 29.1s\tremaining: 0us\n",
      "    fold  1:  [0.87310315]\n",
      "0:\tlearn: 0.7400589\ttotal: 41.8ms\tremaining: 29.2s\n",
      "75:\tlearn: 0.7712139\ttotal: 2.88s\tremaining: 23.7s\n",
      "150:\tlearn: 0.8035363\ttotal: 5.95s\tremaining: 21.6s\n",
      "225:\tlearn: 0.8257169\ttotal: 9.35s\tremaining: 19.6s\n",
      "300:\tlearn: 0.8467544\ttotal: 12.1s\tremaining: 16.1s\n",
      "375:\tlearn: 0.8641438\ttotal: 14.9s\tremaining: 12.8s\n",
      "450:\tlearn: 0.8782742\ttotal: 18.1s\tremaining: 9.98s\n",
      "525:\tlearn: 0.8914318\ttotal: 21.1s\tremaining: 6.99s\n",
      "600:\tlearn: 0.9019627\ttotal: 24s\tremaining: 3.96s\n",
      "675:\tlearn: 0.9104750\ttotal: 27.2s\tremaining: 964ms\n",
      "699:\tlearn: 0.9139285\ttotal: 28.3s\tremaining: 0us\n",
      "    fold  2:  [0.87007116]\n",
      "0:\tlearn: 0.7389644\ttotal: 45.2ms\tremaining: 31.6s\n",
      "75:\tlearn: 0.7776346\ttotal: 2.85s\tremaining: 23.4s\n",
      "150:\tlearn: 0.8056765\ttotal: 5.64s\tremaining: 20.5s\n",
      "225:\tlearn: 0.8331104\ttotal: 8.84s\tremaining: 18.5s\n",
      "300:\tlearn: 0.8501107\ttotal: 12.3s\tremaining: 16.3s\n",
      "375:\tlearn: 0.8692755\ttotal: 16s\tremaining: 13.8s\n",
      "450:\tlearn: 0.8821898\ttotal: 18.8s\tremaining: 10.4s\n",
      "525:\tlearn: 0.8957122\ttotal: 21.5s\tremaining: 7.13s\n",
      "600:\tlearn: 0.9049298\ttotal: 24.3s\tremaining: 4s\n",
      "675:\tlearn: 0.9128827\ttotal: 27.1s\tremaining: 962ms\n",
      "699:\tlearn: 0.9156310\ttotal: 28s\tremaining: 0us\n",
      "    fold  3:  [0.86531461]\n",
      "    ----\n",
      "    MEAN:     [0.86994773] + [0.00288408]\n",
      "    FULL:     [0.86996560]\n",
      "\n",
      "model  1:     [LGBMClassifier]\n"
     ]
    },
    {
     "name": "stderr",
     "output_type": "stream",
     "text": [
      "C:\\ProgramData\\Anaconda3\\lib\\site-packages\\sklearn\\preprocessing\\label.py:151: DeprecationWarning: The truth value of an empty array is ambiguous. Returning False, but in future this will result in an error. Use `array.size > 0` to check that an array is not empty.\n",
      "  if diff:\n",
      "C:\\ProgramData\\Anaconda3\\lib\\site-packages\\sklearn\\preprocessing\\label.py:151: DeprecationWarning: The truth value of an empty array is ambiguous. Returning False, but in future this will result in an error. Use `array.size > 0` to check that an array is not empty.\n",
      "  if diff:\n"
     ]
    },
    {
     "name": "stdout",
     "output_type": "stream",
     "text": [
      "    fold  0:  [0.78590544]\n"
     ]
    },
    {
     "name": "stderr",
     "output_type": "stream",
     "text": [
      "C:\\ProgramData\\Anaconda3\\lib\\site-packages\\sklearn\\preprocessing\\label.py:151: DeprecationWarning: The truth value of an empty array is ambiguous. Returning False, but in future this will result in an error. Use `array.size > 0` to check that an array is not empty.\n",
      "  if diff:\n",
      "C:\\ProgramData\\Anaconda3\\lib\\site-packages\\sklearn\\preprocessing\\label.py:151: DeprecationWarning: The truth value of an empty array is ambiguous. Returning False, but in future this will result in an error. Use `array.size > 0` to check that an array is not empty.\n",
      "  if diff:\n"
     ]
    },
    {
     "name": "stdout",
     "output_type": "stream",
     "text": [
      "    fold  1:  [0.78817490]\n"
     ]
    },
    {
     "name": "stderr",
     "output_type": "stream",
     "text": [
      "C:\\ProgramData\\Anaconda3\\lib\\site-packages\\sklearn\\preprocessing\\label.py:151: DeprecationWarning: The truth value of an empty array is ambiguous. Returning False, but in future this will result in an error. Use `array.size > 0` to check that an array is not empty.\n",
      "  if diff:\n",
      "C:\\ProgramData\\Anaconda3\\lib\\site-packages\\sklearn\\preprocessing\\label.py:151: DeprecationWarning: The truth value of an empty array is ambiguous. Returning False, but in future this will result in an error. Use `array.size > 0` to check that an array is not empty.\n",
      "  if diff:\n"
     ]
    },
    {
     "name": "stdout",
     "output_type": "stream",
     "text": [
      "    fold  2:  [0.78789593]\n"
     ]
    },
    {
     "name": "stderr",
     "output_type": "stream",
     "text": [
      "C:\\ProgramData\\Anaconda3\\lib\\site-packages\\sklearn\\preprocessing\\label.py:151: DeprecationWarning: The truth value of an empty array is ambiguous. Returning False, but in future this will result in an error. Use `array.size > 0` to check that an array is not empty.\n",
      "  if diff:\n",
      "C:\\ProgramData\\Anaconda3\\lib\\site-packages\\sklearn\\preprocessing\\label.py:151: DeprecationWarning: The truth value of an empty array is ambiguous. Returning False, but in future this will result in an error. Use `array.size > 0` to check that an array is not empty.\n",
      "  if diff:\n"
     ]
    },
    {
     "name": "stdout",
     "output_type": "stream",
     "text": [
      "    fold  3:  [0.78332927]\n",
      "    ----\n",
      "    MEAN:     [0.78632638] + [0.00193910]\n",
      "    FULL:     [0.78632017]\n",
      "\n"
     ]
    },
    {
     "data": {
      "text/plain": [
       "SVC(C=1.0, cache_size=200, class_weight=None, coef0=0.0,\n",
       "  decision_function_shape='ovr', degree=3, gamma='auto', kernel='rbf',\n",
       "  max_iter=-1, probability=False, random_state=None, shrinking=True,\n",
       "  tol=0.001, verbose=False)"
      ]
     },
     "execution_count": 89,
     "metadata": {},
     "output_type": "execute_result"
    }
   ],
   "source": [
    "########## Stacking With SVC ###########\n",
    "models = [cb.CatBoostClassifier(iterations=700,\n",
    "                            learning_rate=0.1,\n",
    "                            depth=8,\n",
    "                            eval_metric='Accuracy',\n",
    "                            random_seed = 0,\n",
    "                            bagging_temperature = 0.2,\n",
    "                            od_type='Iter',\n",
    "                            metric_period = 75,\n",
    "                            od_wait=100),####FULL:[0.95873731]###\n",
    "    lgb.LGBMClassifier(n_estimators=260, num_leaves=28, max_depth=6),##FULL:[0.95787809]###\n",
    "#     xgb.XGBRegressor(random_state=0, n_jobs=-1, learning_rate=0.1, \n",
    "#                       n_estimators=100, max_depth=3),\n",
    "]\n",
    "S_train, S_test = stacking(models,train_x,train_y,test_x,\n",
    "                                 regression=False,\n",
    "                                 mode='oof_pred_bag',needs_proba=False,\n",
    "                                 save_dir=None,metric=roc_auc_score, \n",
    "                                 n_folds=4, stratified=False,\n",
    "                                 shuffle=True,\n",
    "                                 random_state=0,\n",
    "                                 verbose=2)\n",
    "\n",
    "stacking_final = svm.SVC()\n",
    "stacking_final.fit(S_train, train_y)"
   ]
  },
  {
   "cell_type": "code",
   "execution_count": 90,
   "metadata": {
    "colab": {
     "base_uri": "https://localhost:8080/",
     "height": 346
    },
    "colab_type": "code",
    "executionInfo": {
     "elapsed": 7671,
     "status": "ok",
     "timestamp": 1589457713958,
     "user": {
      "displayName": "chat bot",
      "photoUrl": "",
      "userId": "02753983145021419952"
     },
     "user_tz": -330
    },
    "id": "Ctf5iUnfCdwQ",
    "outputId": "9f8723e0-896c-4464-f58d-83a328378196"
   },
   "outputs": [
    {
     "name": "stdout",
     "output_type": "stream",
     "text": [
      "accuracy: 0.8726606107037321\n"
     ]
    },
    {
     "data": {
      "image/png": "[encoded data removed]",
      "text/plain": [
       "<Figure size 432x288 with 1 Axes>"
      ]
     },
     "metadata": {},
     "output_type": "display_data"
    },
    {
     "data": {
      "text/plain": [
       "array([[8155, 1036],\n",
       "       [1291, 7792]], dtype=int64)"
      ]
     },
     "execution_count": 90,
     "metadata": {},
     "output_type": "execute_result"
    }
   ],
   "source": [
    "# cheking testing accuracy\n",
    "y_pred=stacking_final.predict(S_test)\n",
    "predictions = [round(value) for value in y_pred]\n",
    "accuracy = accuracy_score(test_y,predictions)\n",
    "print('accuracy:',accuracy)\n",
    "all_score(test_y,predictions)### Test\n",
    "confusion=metrics.confusion_matrix(test_y,predictions)\n",
    "confusion"
   ]
  },
  {
   "cell_type": "code",
   "execution_count": 91,
   "metadata": {
    "colab": {},
    "colab_type": "code",
    "id": "LDu4dedcF-Bx"
   },
   "outputs": [],
   "source": [
    "# let's divide our dataset into training set and hold out set by 50%\n",
    "X_train, X_test, y_train, y_test= train_test_split(X_final, y_final,test_size=0.3, random_state= 42)"
   ]
  },
  {
   "cell_type": "code",
   "execution_count": 92,
   "metadata": {
    "colab": {},
    "colab_type": "code",
    "id": "j7-Bm6s3F-eE"
   },
   "outputs": [],
   "source": [
    "# let's split the training set again into training and test dataset \n",
    "X_train_11, X_test_11, y_train_11, y_test_11=train_test_split(X_train, y_train,test_size=0.2, random_state= 42)"
   ]
  },
  {
   "cell_type": "code",
   "execution_count": 93,
   "metadata": {
    "colab": {
     "base_uri": "https://localhost:8080/",
     "height": 218
    },
    "colab_type": "code",
    "executionInfo": {
     "elapsed": 21730,
     "status": "ok",
     "timestamp": 1589460729938,
     "user": {
      "displayName": "chat bot",
      "photoUrl": "",
      "userId": "02753983145021419952"
     },
     "user_tz": -330
    },
    "id": "vRAKDtpzF-iS",
    "outputId": "a594a680-634f-4a70-9a97-983f13ec039d"
   },
   "outputs": [
    {
     "name": "stdout",
     "output_type": "stream",
     "text": [
      "0:\tlearn: 0.7355190\ttotal: 43.4ms\tremaining: 1m 26s\n",
      "75:\tlearn: 0.7729949\ttotal: 3.02s\tremaining: 1m 16s\n",
      "150:\tlearn: 0.8054626\ttotal: 5.99s\tremaining: 1m 13s\n",
      "225:\tlearn: 0.8281582\ttotal: 9.12s\tremaining: 1m 11s\n",
      "300:\tlearn: 0.8480688\ttotal: 12.5s\tremaining: 1m 10s\n",
      "375:\tlearn: 0.8636064\ttotal: 15.6s\tremaining: 1m 7s\n",
      "450:\tlearn: 0.8794127\ttotal: 19.4s\tremaining: 1m 6s\n",
      "525:\tlearn: 0.8945838\ttotal: 22.3s\tremaining: 1m 2s\n",
      "600:\tlearn: 0.9035008\ttotal: 25.6s\tremaining: 59.6s\n",
      "675:\tlearn: 0.9128820\ttotal: 28.6s\tremaining: 56s\n",
      "750:\tlearn: 0.9217257\ttotal: 31.6s\tremaining: 52.5s\n",
      "825:\tlearn: 0.9272714\ttotal: 34.8s\tremaining: 49.4s\n",
      "900:\tlearn: 0.9327193\ttotal: 38.3s\tremaining: 46.7s\n",
      "975:\tlearn: 0.9392910\ttotal: 41.3s\tremaining: 43.3s\n",
      "1050:\tlearn: 0.9451298\ttotal: 44.2s\tremaining: 39.9s\n",
      "1125:\tlearn: 0.9499182\ttotal: 47s\tremaining: 36.4s\n",
      "1200:\tlearn: 0.9543889\ttotal: 50.5s\tremaining: 33.6s\n",
      "1275:\tlearn: 0.9595436\ttotal: 53.7s\tremaining: 30.5s\n",
      "1350:\tlearn: 0.9635013\ttotal: 56.7s\tremaining: 27.2s\n",
      "1425:\tlearn: 0.9661154\ttotal: 59.9s\tremaining: 24.1s\n",
      "1500:\tlearn: 0.9689737\ttotal: 1m 3s\tremaining: 21s\n",
      "1575:\tlearn: 0.9709770\ttotal: 1m 6s\tremaining: 17.8s\n",
      "1650:\tlearn: 0.9730535\ttotal: 1m 10s\tremaining: 14.8s\n",
      "1725:\tlearn: 0.9747392\ttotal: 1m 12s\tremaining: 11.6s\n",
      "1800:\tlearn: 0.9762783\ttotal: 1m 15s\tremaining: 8.35s\n",
      "1875:\tlearn: 0.9776708\ttotal: 1m 18s\tremaining: 5.18s\n",
      "1950:\tlearn: 0.9794298\ttotal: 1m 21s\tremaining: 2.04s\n",
      "1999:\tlearn: 0.9800161\ttotal: 1m 23s\tremaining: 0us\n"
     ]
    },
    {
     "data": {
      "text/plain": [
       "0.9298417041235099"
      ]
     },
     "execution_count": 93,
     "metadata": {},
     "output_type": "execute_result"
    }
   ],
   "source": [
    "catboost=cb.CatBoostClassifier(iterations=2000,\n",
    "                            learning_rate=0.1,\n",
    "                            depth=8,\n",
    "                            eval_metric='Accuracy',\n",
    "                            random_seed = 0,\n",
    "                            bagging_temperature = 0.2,\n",
    "                            od_type='Iter',\n",
    "                            metric_period = 75,\n",
    "                            od_wait=100)####FULL:[0.95873731]###\n",
    "catboost.fit(X_train_11,y_train_11)\n",
    "catboost.score(X_test_11, y_test_11)"
   ]
  },
  {
   "cell_type": "code",
   "execution_count": 94,
   "metadata": {
    "colab": {
     "base_uri": "https://localhost:8080/",
     "height": 34
    },
    "colab_type": "code",
    "executionInfo": {
     "elapsed": 3672,
     "status": "ok",
     "timestamp": 1589460737606,
     "user": {
      "displayName": "chat bot",
      "photoUrl": "",
      "userId": "02753983145021419952"
     },
     "user_tz": -330
    },
    "id": "VwB88Z1XF-bf",
    "outputId": "0d14e333-3aca-4985-9c3c-c2c9988d8381"
   },
   "outputs": [
    {
     "name": "stderr",
     "output_type": "stream",
     "text": [
      "C:\\ProgramData\\Anaconda3\\lib\\site-packages\\sklearn\\preprocessing\\label.py:151: DeprecationWarning: The truth value of an empty array is ambiguous. Returning False, but in future this will result in an error. Use `array.size > 0` to check that an array is not empty.\n",
      "  if diff:\n"
     ]
    },
    {
     "data": {
      "text/plain": [
       "0.7852257181942545"
      ]
     },
     "execution_count": 94,
     "metadata": {},
     "output_type": "execute_result"
    }
   ],
   "source": [
    "lgbm=lgb.LGBMClassifier(n_estimators=260, num_leaves=28, max_depth=6)\n",
    "lgbm.fit(X_train_11,y_train_11)\n",
    "lgbm.score(X_test_11, y_test_11)"
   ]
  },
  {
   "cell_type": "code",
   "execution_count": 95,
   "metadata": {
    "colab": {},
    "colab_type": "code",
    "id": "JTHDdA2HF-Xx"
   },
   "outputs": [
    {
     "name": "stderr",
     "output_type": "stream",
     "text": [
      "C:\\ProgramData\\Anaconda3\\lib\\site-packages\\sklearn\\preprocessing\\label.py:151: DeprecationWarning: The truth value of an empty array is ambiguous. Returning False, but in future this will result in an error. Use `array.size > 0` to check that an array is not empty.\n",
      "  if diff:\n"
     ]
    }
   ],
   "source": [
    "train1=catboost.predict(X_test)\n",
    "train2=lgbm.predict(X_test)"
   ]
  },
  {
   "cell_type": "code",
   "execution_count": 96,
   "metadata": {
    "colab": {},
    "colab_type": "code",
    "id": "FOC6MUR2Jmxm"
   },
   "outputs": [],
   "source": [
    "meta_inpt=np.column_stack((train1,train2))"
   ]
  },
  {
   "cell_type": "code",
   "execution_count": 97,
   "metadata": {
    "colab": {
     "base_uri": "https://localhost:8080/",
     "height": 84
    },
    "colab_type": "code",
    "executionInfo": {
     "elapsed": 4891,
     "status": "ok",
     "timestamp": 1589460746634,
     "user": {
      "displayName": "chat bot",
      "photoUrl": "",
      "userId": "02753983145021419952"
     },
     "user_tz": -330
    },
    "id": "shqCRXyRJmuV",
    "outputId": "91e89d28-7e3b-4939-bc4e-cc5cef8379c1"
   },
   "outputs": [
    {
     "data": {
      "text/plain": [
       "SVC(C=1.0, cache_size=200, class_weight=None, coef0=0.0,\n",
       "  decision_function_shape='ovr', degree=3, gamma='auto', kernel='rbf',\n",
       "  max_iter=-1, probability=False, random_state=6, shrinking=True,\n",
       "  tol=0.001, verbose=False)"
      ]
     },
     "execution_count": 97,
     "metadata": {},
     "output_type": "execute_result"
    }
   ],
   "source": [
    "RFC_meta_model=svm.SVC(random_state=6)\n",
    "RFC_meta_model.fit(meta_inpt,y_test)"
   ]
  },
  {
   "cell_type": "code",
   "execution_count": 98,
   "metadata": {
    "colab": {},
    "colab_type": "code",
    "id": "ZXOPGPLHJmrU"
   },
   "outputs": [],
   "source": [
    "def stack_result(X_test_11,y_test_11):\n",
    "  \"\"\" Provide X and y data for testing\"\"\"\n",
    "  t1=catboost.predict(X_test_11)\n",
    "  t2=lgbm.predict(X_test_11)\n",
    "  tt=np.column_stack((t1,t2))\n",
    "  y_pred=RFC_meta_model.predict(tt)\n",
    "  predictions = [round(value) for value in y_pred]\n",
    "  accuracy = accuracy_score(y_test_11,predictions)\n",
    "  print('accuracy:',accuracy)\n",
    "  all_score(y_test_11,predictions)### Test\n",
    "  confusion=metrics.confusion_matrix(y_test_11,predictions)\n",
    "  print('confusion:',confusion)"
   ]
  },
  {
   "cell_type": "code",
   "execution_count": 99,
   "metadata": {
    "colab": {
     "base_uri": "https://localhost:8080/",
     "height": 346
    },
    "colab_type": "code",
    "executionInfo": {
     "elapsed": 3031,
     "status": "ok",
     "timestamp": 1589460754578,
     "user": {
      "displayName": "chat bot",
      "photoUrl": "",
      "userId": "02753983145021419952"
     },
     "user_tz": -330
    },
    "id": "vk8l7X_BL49F",
    "outputId": "bc3715c7-446b-4f0c-f2ff-37aab3fe96ee"
   },
   "outputs": [
    {
     "name": "stderr",
     "output_type": "stream",
     "text": [
      "C:\\ProgramData\\Anaconda3\\lib\\site-packages\\sklearn\\preprocessing\\label.py:151: DeprecationWarning: The truth value of an empty array is ambiguous. Returning False, but in future this will result in an error. Use `array.size > 0` to check that an array is not empty.\n",
      "  if diff:\n"
     ]
    },
    {
     "name": "stdout",
     "output_type": "stream",
     "text": [
      "accuracy: 0.9298417041235099\n"
     ]
    },
    {
     "data": {
      "image/png": "[encoded data removed]",
      "text/plain": [
       "<Figure size 432x288 with 1 Axes>"
      ]
     },
     "metadata": {},
     "output_type": "display_data"
    },
    {
     "name": "stdout",
     "output_type": "stream",
     "text": [
      "confusion: [[4568  542]\n",
      " [ 176 4948]]\n"
     ]
    }
   ],
   "source": [
    "stack_result(X_test_11,y_test_11)"
   ]
  },
  {
   "cell_type": "markdown",
   "metadata": {
    "colab_type": "text",
    "id": "aWK8Cfih0jBD"
   },
   "source": [
    "**HYPER Parameter Tuning**"
   ]
  },
  {
   "cell_type": "code",
   "execution_count": 0,
   "metadata": {
    "colab": {},
    "colab_type": "code",
    "id": "FDHBm5T20CdH"
   },
   "outputs": [],
   "source": [
    "from sklearn.model_selection import GridSearchCV"
   ]
  },
  {
   "cell_type": "code",
   "execution_count": 0,
   "metadata": {
    "colab": {},
    "colab_type": "code",
    "id": "45o37PrJ1XmR"
   },
   "outputs": [],
   "source": [
    "param_grid={\n",
    "   \n",
    "    ' learning_rate':[1,0.5,0.1,0.01,0.001],\n",
    "    'max_depth': [3,5,10,20],\n",
    "    'n_estimators':[10,50,100,200]\n",
    "    \n",
    "}"
   ]
  },
  {
   "cell_type": "code",
   "execution_count": 0,
   "metadata": {
    "colab": {},
    "colab_type": "code",
    "id": "tECPemUI1Xrq"
   },
   "outputs": [],
   "source": [
    "grid= GridSearchCV(XGBClassifier(objective='binary:logistic'),param_grid,n_jobs =-1, verbose=3)"
   ]
  },
  {
   "cell_type": "code",
   "execution_count": 108,
   "metadata": {
    "colab": {
     "base_uri": "https://localhost:8080/",
     "height": 387
    },
    "colab_type": "code",
    "executionInfo": {
     "elapsed": 350417,
     "status": "error",
     "timestamp": 1589455183217,
     "user": {
      "displayName": "chat bot",
      "photoUrl": "",
      "userId": "02753983145021419952"
     },
     "user_tz": -330
    },
    "id": "56dbZusZ1XzF",
    "outputId": "ad38e8e9-c699-4228-f308-21fb9e584a1a"
   },
   "outputs": [],
   "source": [
    "grid.fit(train_x,train_y)\n",
    "# To  find the parameters givingmaximum accuracy\n",
    "grid.best_params_"
   ]
  },
  {
   "cell_type": "code",
   "execution_count": 0,
   "metadata": {
    "colab": {},
    "colab_type": "code",
    "id": "NwCscSLV1X42"
   },
   "outputs": [],
   "source": [
    "# Create new model using the same parameters\n",
    "new_model=XGBClassifier(learning_rate= 1, max_depth= 5, n_estimators= 50)\n",
    "new_model.fit(train_x, train_y)"
   ]
  },
  {
   "cell_type": "code",
   "execution_count": 0,
   "metadata": {
    "colab": {},
    "colab_type": "code",
    "id": "qk10U2Bj1YFd"
   },
   "outputs": [],
   "source": [
    "# cheking training accuracy\n",
    "y_pred = new_model.predict(train_x)\n",
    "predictions = [round(value) for value in y_pred]\n",
    "accuracy = accuracy_score(train_y,predictions)\n",
    "print('accuracy:',accuracy)\n",
    "all_score(train_y,predictions)### Train\n",
    "confusion=metrics.confusion_matrix(train_y,predictions)\n",
    "confusion"
   ]
  },
  {
   "cell_type": "code",
   "execution_count": 0,
   "metadata": {
    "colab": {},
    "colab_type": "code",
    "id": "Rm5vdYBv1YMG"
   },
   "outputs": [],
   "source": [
    "y_pred = new_model.predict(test_x)\n",
    "predictions = [round(value) for value in y_pred]\n",
    "accuracy = accuracy_score(test_y,predictions)\n",
    "print('accuracy:',accuracy)\n",
    "all_score(test_y,predictions)### Test\n",
    "confusion=metrics.confusion_matrix(test_y,predictions)\n",
    "confusion"
   ]
  },
  {
   "cell_type": "markdown",
   "metadata": {},
   "source": [
    "## CLUSTRING #####"
   ]
  },
  {
   "cell_type": "code",
   "execution_count": 111,
   "metadata": {},
   "outputs": [
    {
     "name": "stdout",
     "output_type": "stream",
     "text": [
      "Collecting kneed\n",
      "  Downloading kneed-0.6.0-py2.py3-none-any.whl (10 kB)\n",
      "Requirement already satisfied: matplotlib in c:\\programdata\\anaconda3\\lib\\site-packages (from kneed) (3.1.3)\n",
      "Requirement already satisfied: scikit-learn in c:\\programdata\\anaconda3\\lib\\site-packages (from kneed) (0.19.1)\n",
      "Requirement already satisfied: scipy in c:\\programdata\\anaconda3\\lib\\site-packages (from kneed) (1.1.0)\n",
      "Requirement already satisfied: numpy>=1.14.2 in c:\\programdata\\anaconda3\\lib\\site-packages (from kneed) (1.17.3)\n",
      "Requirement already satisfied: cycler>=0.10 in c:\\programdata\\anaconda3\\lib\\site-packages (from matplotlib->kneed) (0.10.0)\n",
      "Requirement already satisfied: kiwisolver>=1.0.1 in c:\\programdata\\anaconda3\\lib\\site-packages (from matplotlib->kneed) (1.0.1)\n",
      "Requirement already satisfied: pyparsing!=2.0.4,!=2.1.2,!=2.1.6,>=2.0.1 in c:\\programdata\\anaconda3\\lib\\site-packages (from matplotlib->kneed) (2.2.0)\n",
      "Requirement already satisfied: python-dateutil>=2.1 in c:\\programdata\\anaconda3\\lib\\site-packages (from matplotlib->kneed) (2.7.3)\n",
      "Requirement already satisfied: six in c:\\programdata\\anaconda3\\lib\\site-packages (from cycler>=0.10->matplotlib->kneed) (1.11.0)\n",
      "Requirement already satisfied: setuptools in c:\\programdata\\anaconda3\\lib\\site-packages (from kiwisolver>=1.0.1->matplotlib->kneed) (40.6.2)\n",
      "Installing collected packages: kneed\n",
      "Successfully installed kneed-0.6.0\n"
     ]
    },
    {
     "name": "stderr",
     "output_type": "stream",
     "text": [
      "WARNING: You are using pip version 20.0.2; however, version 20.1 is available.\n",
      "You should consider upgrading via the 'c:\\programdata\\anaconda3\\python.exe -m pip install --upgrade pip' command.\n"
     ]
    }
   ],
   "source": [
    "!pip install kneed"
   ]
  },
  {
   "cell_type": "code",
   "execution_count": 112,
   "metadata": {},
   "outputs": [],
   "source": [
    "from sklearn.cluster import KMeans\n",
    "from kneed import KneeLocator\n",
    "# from file_operations import file_methods"
   ]
  },
  {
   "cell_type": "code",
   "execution_count": 120,
   "metadata": {
    "colab": {},
    "colab_type": "code",
    "id": "rEBgHbL61YJq"
   },
   "outputs": [
    {
     "data": {
      "image/png": "[encoded data removed]",
      "text/plain": [
       "<Figure size 432x288 with 1 Axes>"
      ]
     },
     "metadata": {},
     "output_type": "display_data"
    }
   ],
   "source": [
    "wcss=[]\n",
    "for i in range (1,11):\n",
    "    kmeans=KMeans(n_clusters=i,init='k-means++',random_state=42) # initializing the KMeans object\n",
    "    kmeans.fit(X_Encod) # fitting the data to the KMeans Algorithm\n",
    "    wcss.append(kmeans.inertia_)\n",
    "plt.plot(range(1,11),wcss) # creating the graph between WCSS and the number of clusters\n",
    "plt.title('The Elbow Method')\n",
    "plt.xlabel('Number of clusters')\n",
    "plt.ylabel('WCSS')\n",
    "fig1 = plt.gcf()\n",
    "plt.show()\n",
    "# plt.draw()\n",
    "fig1.savefig('K-Means_Elbow.PNG',dpi=100) # saving the elbow plot locally\n",
    "# finding the value of the optimum cluster programmatically\n",
    "kn = KneeLocator(range(1, 11), wcss, curve='convex', direction='decreasing')"
   ]
  },
  {
   "cell_type": "code",
   "execution_count": 124,
   "metadata": {
    "colab": {},
    "colab_type": "code",
    "id": "LPWUeDHR1X3U"
   },
   "outputs": [
    {
     "data": {
      "text/plain": [
       "2"
      ]
     },
     "execution_count": 124,
     "metadata": {},
     "output_type": "execute_result"
    }
   ],
   "source": [
    "#### Optimal number of cluster #########\n",
    "kn.knee"
   ]
  },
  {
   "cell_type": "code",
   "execution_count": 137,
   "metadata": {
    "colab": {},
    "colab_type": "code",
    "id": "E9xW1ClC1Xxk"
   },
   "outputs": [],
   "source": [
    "kmeans=KMeans(n_clusters=3,init='k-means++',random_state=42) # initializing the KMeans object\n",
    "y_kmeans=kmeans.fit_predict(X_Encod)"
   ]
  },
  {
   "cell_type": "code",
   "execution_count": 138,
   "metadata": {},
   "outputs": [
    {
     "name": "stdout",
     "output_type": "stream",
     "text": [
      "<class 'pandas.core.frame.DataFrame'>\n",
      "RangeIndex: 41188 entries, 0 to 41187\n",
      "Data columns (total 1 columns):\n",
      "0    41188 non-null int32\n",
      "dtypes: int32(1)\n",
      "memory usage: 161.0 KB\n"
     ]
    }
   ],
   "source": [
    "yy=pd.DataFrame(y_kmeans)\n",
    "yy.info()"
   ]
  },
  {
   "cell_type": "code",
   "execution_count": 142,
   "metadata": {},
   "outputs": [
    {
     "data": {
      "text/plain": [
       "'T-distributed Stochastic Neighbor Embedding (t-SNE) is a machine learning algorithm for visualization developed by Laurens van der Maaten and Geoffrey Hinton. ... It is often used to visualize high-level representations learned by an artificial neural network.'"
      ]
     },
     "execution_count": 142,
     "metadata": {},
     "output_type": "execute_result"
    }
   ],
   "source": [
    "\"\"\"T-distributed Stochastic Neighbor Embedding (t-SNE) is a machine learning algorithm for visualization developed by Laurens van der Maaten and Geoffrey Hinton. ... It is often used to visualize high-level representations learned by an artificial neural network.\"\"\""
   ]
  },
  {
   "cell_type": "code",
   "execution_count": 1,
   "metadata": {},
   "outputs": [],
   "source": [
    "# %matplotlib inline\n",
    "# from sklearn.manifold import TSNE\n",
    "# # T-SNE plot for dataset\n",
    "# model = TSNE(n_components=2, random_state=0, perplexity=30)\n",
    "# tsne_data = model.fit_transform(X_Encod) \n",
    "# plt.figure(figsize=(8,8))\n",
    "# plt.scatter(tsne_data[:, 0], tsne_data[:, 1], c=y.values)\n",
    "# plt.show()"
   ]
  },
  {
   "cell_type": "code",
   "execution_count": null,
   "metadata": {},
   "outputs": [],
   "source": []
  }
 ],
 "metadata": {
  "accelerator": "GPU",
  "colab": {
   "authorship_tag": "ABX9TyM8CZCkVazWsHSxY7ZikWBY",
   "mount_file_id": "1KydKyRFJQkMWbNTjXXiU76D51Wg73IKm",
   "name": "ML3BankingSubscription_P1_V4.ipynb",
   "provenance": []
  },
  "kernelspec": {
   "display_name": "Python 3",
   "language": "python",
   "name": "python3"
  },
  "language_info": {
   "codemirror_mode": {
    "name": "ipython",
    "version": 3
   },
   "file_extension": ".py",
   "mimetype": "text/x-python",
   "name": "python",
   "nbconvert_exporter": "python",
   "pygments_lexer": "ipython3",
   "version": "3.6.5"
  }
 },
 "nbformat": 4,
 "nbformat_minor": 1
}
